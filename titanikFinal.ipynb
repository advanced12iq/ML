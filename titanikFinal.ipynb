{
  "cells": [
    {
      "cell_type": "markdown",
      "source": [
        "# \"Преамбула\""
      ],
      "metadata": {
        "id": "z6t4MKtRsBU0"
      }
    },
    {
      "cell_type": "code",
      "source": [
        "from google.colab import drive\n",
        "drive.mount('/content/drive')"
      ],
      "metadata": {
        "colab": {
          "base_uri": "https://localhost:8080/"
        },
        "id": "N5k1m7pezT3M",
        "outputId": "406365d7-608a-4c51-9266-374a1c17b43f"
      },
      "execution_count": null,
      "outputs": [
        {
          "output_type": "stream",
          "name": "stdout",
          "text": [
            "Drive already mounted at /content/drive; to attempt to forcibly remount, call drive.mount(\"/content/drive\", force_remount=True).\n"
          ]
        }
      ]
    },
    {
      "cell_type": "code",
      "source": [
        "pip install catboost"
      ],
      "metadata": {
        "colab": {
          "base_uri": "https://localhost:8080/"
        },
        "id": "LEFccgBEr_f1",
        "outputId": "4e114f8f-0213-42e8-e5f1-2edb2eed8cba"
      },
      "execution_count": 1,
      "outputs": [
        {
          "output_type": "stream",
          "name": "stdout",
          "text": [
            "Collecting catboost\n",
            "  Downloading catboost-1.2.5-cp310-cp310-manylinux2014_x86_64.whl (98.2 MB)\n",
            "\u001b[2K     \u001b[90m━━━━━━━━━━━━━━━━━━━━━━━━━━━━━━━━━━━━━━━━\u001b[0m \u001b[32m98.2/98.2 MB\u001b[0m \u001b[31m8.4 MB/s\u001b[0m eta \u001b[36m0:00:00\u001b[0m\n",
            "\u001b[?25hRequirement already satisfied: graphviz in /usr/local/lib/python3.10/dist-packages (from catboost) (0.20.3)\n",
            "Requirement already satisfied: matplotlib in /usr/local/lib/python3.10/dist-packages (from catboost) (3.7.1)\n",
            "Requirement already satisfied: numpy>=1.16.0 in /usr/local/lib/python3.10/dist-packages (from catboost) (1.25.2)\n",
            "Requirement already satisfied: pandas>=0.24 in /usr/local/lib/python3.10/dist-packages (from catboost) (2.0.3)\n",
            "Requirement already satisfied: scipy in /usr/local/lib/python3.10/dist-packages (from catboost) (1.11.4)\n",
            "Requirement already satisfied: plotly in /usr/local/lib/python3.10/dist-packages (from catboost) (5.15.0)\n",
            "Requirement already satisfied: six in /usr/local/lib/python3.10/dist-packages (from catboost) (1.16.0)\n",
            "Requirement already satisfied: python-dateutil>=2.8.2 in /usr/local/lib/python3.10/dist-packages (from pandas>=0.24->catboost) (2.8.2)\n",
            "Requirement already satisfied: pytz>=2020.1 in /usr/local/lib/python3.10/dist-packages (from pandas>=0.24->catboost) (2023.4)\n",
            "Requirement already satisfied: tzdata>=2022.1 in /usr/local/lib/python3.10/dist-packages (from pandas>=0.24->catboost) (2024.1)\n",
            "Requirement already satisfied: contourpy>=1.0.1 in /usr/local/lib/python3.10/dist-packages (from matplotlib->catboost) (1.2.1)\n",
            "Requirement already satisfied: cycler>=0.10 in /usr/local/lib/python3.10/dist-packages (from matplotlib->catboost) (0.12.1)\n",
            "Requirement already satisfied: fonttools>=4.22.0 in /usr/local/lib/python3.10/dist-packages (from matplotlib->catboost) (4.53.1)\n",
            "Requirement already satisfied: kiwisolver>=1.0.1 in /usr/local/lib/python3.10/dist-packages (from matplotlib->catboost) (1.4.5)\n",
            "Requirement already satisfied: packaging>=20.0 in /usr/local/lib/python3.10/dist-packages (from matplotlib->catboost) (24.1)\n",
            "Requirement already satisfied: pillow>=6.2.0 in /usr/local/lib/python3.10/dist-packages (from matplotlib->catboost) (9.4.0)\n",
            "Requirement already satisfied: pyparsing>=2.3.1 in /usr/local/lib/python3.10/dist-packages (from matplotlib->catboost) (3.1.2)\n",
            "Requirement already satisfied: tenacity>=6.2.0 in /usr/local/lib/python3.10/dist-packages (from plotly->catboost) (8.5.0)\n",
            "Installing collected packages: catboost\n",
            "Successfully installed catboost-1.2.5\n"
          ]
        }
      ]
    },
    {
      "cell_type": "markdown",
      "metadata": {
        "id": "6FZDMqOs86nA"
      },
      "source": [
        "## Импорт библиотек для анализа данных"
      ]
    },
    {
      "cell_type": "code",
      "execution_count": 2,
      "metadata": {
        "execution": {
          "iopub.execute_input": "2024-07-17T18:22:13.804099Z",
          "iopub.status.busy": "2024-07-17T18:22:13.803474Z",
          "iopub.status.idle": "2024-07-17T18:22:15.511072Z",
          "shell.execute_reply": "2024-07-17T18:22:15.510116Z",
          "shell.execute_reply.started": "2024-07-17T18:22:13.803971Z"
        },
        "id": "Iysvfp8G86nA",
        "trusted": true
      },
      "outputs": [],
      "source": [
        "import pandas as pd\n",
        "import numpy as np\n",
        "import seaborn as sns\n",
        "import matplotlib.pyplot as plt\n",
        "\n",
        "from tqdm import tqdm\n",
        "\n",
        "from sklearn.tree import DecisionTreeClassifier\n",
        "from sklearn.model_selection import GridSearchCV, train_test_split\n",
        "from sklearn.feature_selection import SelectKBest, f_classif\n",
        "from sklearn.metrics import classification_report, f1_score\n",
        "from sklearn.preprocessing import MinMaxScaler\n",
        "from sklearn.linear_model import LogisticRegression, Ridge, Lasso\n",
        "from sklearn.ensemble import RandomForestClassifier\n",
        "from catboost import CatBoostClassifier\n",
        "\n",
        "%matplotlib inline"
      ]
    },
    {
      "cell_type": "markdown",
      "metadata": {
        "id": "o6PVvJF786nC"
      },
      "source": [
        "# Вступление"
      ]
    },
    {
      "cell_type": "markdown",
      "metadata": {
        "id": "ICO4su-V86nC"
      },
      "source": [
        "В данном соревновании перед нами стоит задача предсказания: выживет ли пассажир или нет, причём метрикой оценки качества модели является доля правильных ответов (Accuracy). Если интерпретировать данную задачу на язык машинного обучения, то получается, что мы должны постороить бинарный классификатор, который выдаёт 0, если по предположению модели пассажир не выживет, иначе 1."
      ]
    },
    {
      "cell_type": "markdown",
      "metadata": {
        "id": "kQR2K6Ir86nC"
      },
      "source": [
        "Существуют разные подходы к классификации, мы хотим рассмотреть одни из самых популярных и более-менее интерпретируемых (относительно black-box нейронных сетей):\n",
        "1. Логистическую регрессию\n",
        "2. Дерево решений\n",
        "3. Случайный лес\n",
        "4. Градиентный бустинг\n",
        "\n",
        "Алгоритм k-means, по нашему мнению, использовать не очень рационально, поскольку он больше про обучение без учителя, а также требует очень много вычислительных ресурсов, так как каждый объект будет иметь больше 2 признаков, а значит придётся рассматривать его в многомерном пространстве, что будет к тому же долго, ведь для каждого объекта алгоритм предполагает вычисление расстояния для каждого из соседей."
      ]
    },
    {
      "cell_type": "markdown",
      "metadata": {
        "id": "4i7-vRBK86nC"
      },
      "source": [
        "# 1. EDA (Разведочный анализ данных)"
      ]
    },
    {
      "cell_type": "markdown",
      "source": [
        "## Смотрим на данные"
      ],
      "metadata": {
        "id": "9OUhJhnc1oVa"
      }
    },
    {
      "cell_type": "markdown",
      "metadata": {
        "id": "fRplS9Sq86nC"
      },
      "source": [
        "Для начала поймём, что имеем. Любезные организаторы предоставили нам два датасета: train.csv и test.csv. Первый нужен для построения модели, её обучения, поскольку для каждого объекта там указан \"вердикт\" выжил человек или нет, второй нужен для проверки качества модели."
      ]
    },
    {
      "cell_type": "code",
      "execution_count": 3,
      "metadata": {
        "execution": {
          "iopub.execute_input": "2024-07-17T18:22:15.522815Z",
          "iopub.status.busy": "2024-07-17T18:22:15.522467Z",
          "iopub.status.idle": "2024-07-17T18:22:15.545095Z",
          "shell.execute_reply": "2024-07-17T18:22:15.544100Z",
          "shell.execute_reply.started": "2024-07-17T18:22:15.522783Z"
        },
        "id": "Gimc3cXx86nC",
        "trusted": true
      },
      "outputs": [],
      "source": [
        "# train = pd.read_csv(\"/content/sample_data/train.csv\")\n",
        "train = pd.read_csv('/content/train.csv')"
      ]
    },
    {
      "cell_type": "code",
      "source": [
        "train.head()"
      ],
      "metadata": {
        "colab": {
          "base_uri": "https://localhost:8080/",
          "height": 276
        },
        "id": "SdmVfyfM1Mnw",
        "outputId": "594d7e8e-c79b-4757-ebfe-05ad687b76ad"
      },
      "execution_count": null,
      "outputs": [
        {
          "output_type": "execute_result",
          "data": {
            "text/plain": [
              "   PassengerId  Survived  Pclass  \\\n",
              "0            1         0       3   \n",
              "1            2         1       1   \n",
              "2            3         1       3   \n",
              "3            4         1       1   \n",
              "4            5         0       3   \n",
              "\n",
              "                                                Name     Sex   Age  SibSp  \\\n",
              "0                            Braund, Mr. Owen Harris    male  22.0      1   \n",
              "1  Cumings, Mrs. John Bradley (Florence Briggs Th...  female  38.0      1   \n",
              "2                             Heikkinen, Miss. Laina  female  26.0      0   \n",
              "3       Futrelle, Mrs. Jacques Heath (Lily May Peel)  female  35.0      1   \n",
              "4                           Allen, Mr. William Henry    male  35.0      0   \n",
              "\n",
              "   Parch            Ticket     Fare Cabin Embarked  \n",
              "0      0         A/5 21171   7.2500   NaN        S  \n",
              "1      0          PC 17599  71.2833   C85        C  \n",
              "2      0  STON/O2. 3101282   7.9250   NaN        S  \n",
              "3      0            113803  53.1000  C123        S  \n",
              "4      0            373450   8.0500   NaN        S  "
            ],
            "text/html": [
              "\n",
              "  <div id=\"df-13a93172-01ff-4caf-9305-a94151888776\" class=\"colab-df-container\">\n",
              "    <div>\n",
              "<style scoped>\n",
              "    .dataframe tbody tr th:only-of-type {\n",
              "        vertical-align: middle;\n",
              "    }\n",
              "\n",
              "    .dataframe tbody tr th {\n",
              "        vertical-align: top;\n",
              "    }\n",
              "\n",
              "    .dataframe thead th {\n",
              "        text-align: right;\n",
              "    }\n",
              "</style>\n",
              "<table border=\"1\" class=\"dataframe\">\n",
              "  <thead>\n",
              "    <tr style=\"text-align: right;\">\n",
              "      <th></th>\n",
              "      <th>PassengerId</th>\n",
              "      <th>Survived</th>\n",
              "      <th>Pclass</th>\n",
              "      <th>Name</th>\n",
              "      <th>Sex</th>\n",
              "      <th>Age</th>\n",
              "      <th>SibSp</th>\n",
              "      <th>Parch</th>\n",
              "      <th>Ticket</th>\n",
              "      <th>Fare</th>\n",
              "      <th>Cabin</th>\n",
              "      <th>Embarked</th>\n",
              "    </tr>\n",
              "  </thead>\n",
              "  <tbody>\n",
              "    <tr>\n",
              "      <th>0</th>\n",
              "      <td>1</td>\n",
              "      <td>0</td>\n",
              "      <td>3</td>\n",
              "      <td>Braund, Mr. Owen Harris</td>\n",
              "      <td>male</td>\n",
              "      <td>22.0</td>\n",
              "      <td>1</td>\n",
              "      <td>0</td>\n",
              "      <td>A/5 21171</td>\n",
              "      <td>7.2500</td>\n",
              "      <td>NaN</td>\n",
              "      <td>S</td>\n",
              "    </tr>\n",
              "    <tr>\n",
              "      <th>1</th>\n",
              "      <td>2</td>\n",
              "      <td>1</td>\n",
              "      <td>1</td>\n",
              "      <td>Cumings, Mrs. John Bradley (Florence Briggs Th...</td>\n",
              "      <td>female</td>\n",
              "      <td>38.0</td>\n",
              "      <td>1</td>\n",
              "      <td>0</td>\n",
              "      <td>PC 17599</td>\n",
              "      <td>71.2833</td>\n",
              "      <td>C85</td>\n",
              "      <td>C</td>\n",
              "    </tr>\n",
              "    <tr>\n",
              "      <th>2</th>\n",
              "      <td>3</td>\n",
              "      <td>1</td>\n",
              "      <td>3</td>\n",
              "      <td>Heikkinen, Miss. Laina</td>\n",
              "      <td>female</td>\n",
              "      <td>26.0</td>\n",
              "      <td>0</td>\n",
              "      <td>0</td>\n",
              "      <td>STON/O2. 3101282</td>\n",
              "      <td>7.9250</td>\n",
              "      <td>NaN</td>\n",
              "      <td>S</td>\n",
              "    </tr>\n",
              "    <tr>\n",
              "      <th>3</th>\n",
              "      <td>4</td>\n",
              "      <td>1</td>\n",
              "      <td>1</td>\n",
              "      <td>Futrelle, Mrs. Jacques Heath (Lily May Peel)</td>\n",
              "      <td>female</td>\n",
              "      <td>35.0</td>\n",
              "      <td>1</td>\n",
              "      <td>0</td>\n",
              "      <td>113803</td>\n",
              "      <td>53.1000</td>\n",
              "      <td>C123</td>\n",
              "      <td>S</td>\n",
              "    </tr>\n",
              "    <tr>\n",
              "      <th>4</th>\n",
              "      <td>5</td>\n",
              "      <td>0</td>\n",
              "      <td>3</td>\n",
              "      <td>Allen, Mr. William Henry</td>\n",
              "      <td>male</td>\n",
              "      <td>35.0</td>\n",
              "      <td>0</td>\n",
              "      <td>0</td>\n",
              "      <td>373450</td>\n",
              "      <td>8.0500</td>\n",
              "      <td>NaN</td>\n",
              "      <td>S</td>\n",
              "    </tr>\n",
              "  </tbody>\n",
              "</table>\n",
              "</div>\n",
              "    <div class=\"colab-df-buttons\">\n",
              "\n",
              "  <div class=\"colab-df-container\">\n",
              "    <button class=\"colab-df-convert\" onclick=\"convertToInteractive('df-13a93172-01ff-4caf-9305-a94151888776')\"\n",
              "            title=\"Convert this dataframe to an interactive table.\"\n",
              "            style=\"display:none;\">\n",
              "\n",
              "  <svg xmlns=\"http://www.w3.org/2000/svg\" height=\"24px\" viewBox=\"0 -960 960 960\">\n",
              "    <path d=\"M120-120v-720h720v720H120Zm60-500h600v-160H180v160Zm220 220h160v-160H400v160Zm0 220h160v-160H400v160ZM180-400h160v-160H180v160Zm440 0h160v-160H620v160ZM180-180h160v-160H180v160Zm440 0h160v-160H620v160Z\"/>\n",
              "  </svg>\n",
              "    </button>\n",
              "\n",
              "  <style>\n",
              "    .colab-df-container {\n",
              "      display:flex;\n",
              "      gap: 12px;\n",
              "    }\n",
              "\n",
              "    .colab-df-convert {\n",
              "      background-color: #E8F0FE;\n",
              "      border: none;\n",
              "      border-radius: 50%;\n",
              "      cursor: pointer;\n",
              "      display: none;\n",
              "      fill: #1967D2;\n",
              "      height: 32px;\n",
              "      padding: 0 0 0 0;\n",
              "      width: 32px;\n",
              "    }\n",
              "\n",
              "    .colab-df-convert:hover {\n",
              "      background-color: #E2EBFA;\n",
              "      box-shadow: 0px 1px 2px rgba(60, 64, 67, 0.3), 0px 1px 3px 1px rgba(60, 64, 67, 0.15);\n",
              "      fill: #174EA6;\n",
              "    }\n",
              "\n",
              "    .colab-df-buttons div {\n",
              "      margin-bottom: 4px;\n",
              "    }\n",
              "\n",
              "    [theme=dark] .colab-df-convert {\n",
              "      background-color: #3B4455;\n",
              "      fill: #D2E3FC;\n",
              "    }\n",
              "\n",
              "    [theme=dark] .colab-df-convert:hover {\n",
              "      background-color: #434B5C;\n",
              "      box-shadow: 0px 1px 3px 1px rgba(0, 0, 0, 0.15);\n",
              "      filter: drop-shadow(0px 1px 2px rgba(0, 0, 0, 0.3));\n",
              "      fill: #FFFFFF;\n",
              "    }\n",
              "  </style>\n",
              "\n",
              "    <script>\n",
              "      const buttonEl =\n",
              "        document.querySelector('#df-13a93172-01ff-4caf-9305-a94151888776 button.colab-df-convert');\n",
              "      buttonEl.style.display =\n",
              "        google.colab.kernel.accessAllowed ? 'block' : 'none';\n",
              "\n",
              "      async function convertToInteractive(key) {\n",
              "        const element = document.querySelector('#df-13a93172-01ff-4caf-9305-a94151888776');\n",
              "        const dataTable =\n",
              "          await google.colab.kernel.invokeFunction('convertToInteractive',\n",
              "                                                    [key], {});\n",
              "        if (!dataTable) return;\n",
              "\n",
              "        const docLinkHtml = 'Like what you see? Visit the ' +\n",
              "          '<a target=\"_blank\" href=https://colab.research.google.com/notebooks/data_table.ipynb>data table notebook</a>'\n",
              "          + ' to learn more about interactive tables.';\n",
              "        element.innerHTML = '';\n",
              "        dataTable['output_type'] = 'display_data';\n",
              "        await google.colab.output.renderOutput(dataTable, element);\n",
              "        const docLink = document.createElement('div');\n",
              "        docLink.innerHTML = docLinkHtml;\n",
              "        element.appendChild(docLink);\n",
              "      }\n",
              "    </script>\n",
              "  </div>\n",
              "\n",
              "\n",
              "<div id=\"df-4f9eafcd-4102-4229-ae9e-ff17d680d3d4\">\n",
              "  <button class=\"colab-df-quickchart\" onclick=\"quickchart('df-4f9eafcd-4102-4229-ae9e-ff17d680d3d4')\"\n",
              "            title=\"Suggest charts\"\n",
              "            style=\"display:none;\">\n",
              "\n",
              "<svg xmlns=\"http://www.w3.org/2000/svg\" height=\"24px\"viewBox=\"0 0 24 24\"\n",
              "     width=\"24px\">\n",
              "    <g>\n",
              "        <path d=\"M19 3H5c-1.1 0-2 .9-2 2v14c0 1.1.9 2 2 2h14c1.1 0 2-.9 2-2V5c0-1.1-.9-2-2-2zM9 17H7v-7h2v7zm4 0h-2V7h2v10zm4 0h-2v-4h2v4z\"/>\n",
              "    </g>\n",
              "</svg>\n",
              "  </button>\n",
              "\n",
              "<style>\n",
              "  .colab-df-quickchart {\n",
              "      --bg-color: #E8F0FE;\n",
              "      --fill-color: #1967D2;\n",
              "      --hover-bg-color: #E2EBFA;\n",
              "      --hover-fill-color: #174EA6;\n",
              "      --disabled-fill-color: #AAA;\n",
              "      --disabled-bg-color: #DDD;\n",
              "  }\n",
              "\n",
              "  [theme=dark] .colab-df-quickchart {\n",
              "      --bg-color: #3B4455;\n",
              "      --fill-color: #D2E3FC;\n",
              "      --hover-bg-color: #434B5C;\n",
              "      --hover-fill-color: #FFFFFF;\n",
              "      --disabled-bg-color: #3B4455;\n",
              "      --disabled-fill-color: #666;\n",
              "  }\n",
              "\n",
              "  .colab-df-quickchart {\n",
              "    background-color: var(--bg-color);\n",
              "    border: none;\n",
              "    border-radius: 50%;\n",
              "    cursor: pointer;\n",
              "    display: none;\n",
              "    fill: var(--fill-color);\n",
              "    height: 32px;\n",
              "    padding: 0;\n",
              "    width: 32px;\n",
              "  }\n",
              "\n",
              "  .colab-df-quickchart:hover {\n",
              "    background-color: var(--hover-bg-color);\n",
              "    box-shadow: 0 1px 2px rgba(60, 64, 67, 0.3), 0 1px 3px 1px rgba(60, 64, 67, 0.15);\n",
              "    fill: var(--button-hover-fill-color);\n",
              "  }\n",
              "\n",
              "  .colab-df-quickchart-complete:disabled,\n",
              "  .colab-df-quickchart-complete:disabled:hover {\n",
              "    background-color: var(--disabled-bg-color);\n",
              "    fill: var(--disabled-fill-color);\n",
              "    box-shadow: none;\n",
              "  }\n",
              "\n",
              "  .colab-df-spinner {\n",
              "    border: 2px solid var(--fill-color);\n",
              "    border-color: transparent;\n",
              "    border-bottom-color: var(--fill-color);\n",
              "    animation:\n",
              "      spin 1s steps(1) infinite;\n",
              "  }\n",
              "\n",
              "  @keyframes spin {\n",
              "    0% {\n",
              "      border-color: transparent;\n",
              "      border-bottom-color: var(--fill-color);\n",
              "      border-left-color: var(--fill-color);\n",
              "    }\n",
              "    20% {\n",
              "      border-color: transparent;\n",
              "      border-left-color: var(--fill-color);\n",
              "      border-top-color: var(--fill-color);\n",
              "    }\n",
              "    30% {\n",
              "      border-color: transparent;\n",
              "      border-left-color: var(--fill-color);\n",
              "      border-top-color: var(--fill-color);\n",
              "      border-right-color: var(--fill-color);\n",
              "    }\n",
              "    40% {\n",
              "      border-color: transparent;\n",
              "      border-right-color: var(--fill-color);\n",
              "      border-top-color: var(--fill-color);\n",
              "    }\n",
              "    60% {\n",
              "      border-color: transparent;\n",
              "      border-right-color: var(--fill-color);\n",
              "    }\n",
              "    80% {\n",
              "      border-color: transparent;\n",
              "      border-right-color: var(--fill-color);\n",
              "      border-bottom-color: var(--fill-color);\n",
              "    }\n",
              "    90% {\n",
              "      border-color: transparent;\n",
              "      border-bottom-color: var(--fill-color);\n",
              "    }\n",
              "  }\n",
              "</style>\n",
              "\n",
              "  <script>\n",
              "    async function quickchart(key) {\n",
              "      const quickchartButtonEl =\n",
              "        document.querySelector('#' + key + ' button');\n",
              "      quickchartButtonEl.disabled = true;  // To prevent multiple clicks.\n",
              "      quickchartButtonEl.classList.add('colab-df-spinner');\n",
              "      try {\n",
              "        const charts = await google.colab.kernel.invokeFunction(\n",
              "            'suggestCharts', [key], {});\n",
              "      } catch (error) {\n",
              "        console.error('Error during call to suggestCharts:', error);\n",
              "      }\n",
              "      quickchartButtonEl.classList.remove('colab-df-spinner');\n",
              "      quickchartButtonEl.classList.add('colab-df-quickchart-complete');\n",
              "    }\n",
              "    (() => {\n",
              "      let quickchartButtonEl =\n",
              "        document.querySelector('#df-4f9eafcd-4102-4229-ae9e-ff17d680d3d4 button');\n",
              "      quickchartButtonEl.style.display =\n",
              "        google.colab.kernel.accessAllowed ? 'block' : 'none';\n",
              "    })();\n",
              "  </script>\n",
              "</div>\n",
              "    </div>\n",
              "  </div>\n"
            ],
            "application/vnd.google.colaboratory.intrinsic+json": {
              "type": "dataframe",
              "variable_name": "train",
              "summary": "{\n  \"name\": \"train\",\n  \"rows\": 891,\n  \"fields\": [\n    {\n      \"column\": \"PassengerId\",\n      \"properties\": {\n        \"dtype\": \"number\",\n        \"std\": 257,\n        \"min\": 1,\n        \"max\": 891,\n        \"num_unique_values\": 891,\n        \"samples\": [\n          710,\n          440,\n          841\n        ],\n        \"semantic_type\": \"\",\n        \"description\": \"\"\n      }\n    },\n    {\n      \"column\": \"Survived\",\n      \"properties\": {\n        \"dtype\": \"number\",\n        \"std\": 0,\n        \"min\": 0,\n        \"max\": 1,\n        \"num_unique_values\": 2,\n        \"samples\": [\n          1,\n          0\n        ],\n        \"semantic_type\": \"\",\n        \"description\": \"\"\n      }\n    },\n    {\n      \"column\": \"Pclass\",\n      \"properties\": {\n        \"dtype\": \"number\",\n        \"std\": 0,\n        \"min\": 1,\n        \"max\": 3,\n        \"num_unique_values\": 3,\n        \"samples\": [\n          3,\n          1\n        ],\n        \"semantic_type\": \"\",\n        \"description\": \"\"\n      }\n    },\n    {\n      \"column\": \"Name\",\n      \"properties\": {\n        \"dtype\": \"string\",\n        \"num_unique_values\": 891,\n        \"samples\": [\n          \"Moubarek, Master. Halim Gonios (\\\"William George\\\")\",\n          \"Kvillner, Mr. Johan Henrik Johannesson\"\n        ],\n        \"semantic_type\": \"\",\n        \"description\": \"\"\n      }\n    },\n    {\n      \"column\": \"Sex\",\n      \"properties\": {\n        \"dtype\": \"category\",\n        \"num_unique_values\": 2,\n        \"samples\": [\n          \"female\",\n          \"male\"\n        ],\n        \"semantic_type\": \"\",\n        \"description\": \"\"\n      }\n    },\n    {\n      \"column\": \"Age\",\n      \"properties\": {\n        \"dtype\": \"number\",\n        \"std\": 14.526497332334042,\n        \"min\": 0.42,\n        \"max\": 80.0,\n        \"num_unique_values\": 88,\n        \"samples\": [\n          0.75,\n          22.0\n        ],\n        \"semantic_type\": \"\",\n        \"description\": \"\"\n      }\n    },\n    {\n      \"column\": \"SibSp\",\n      \"properties\": {\n        \"dtype\": \"number\",\n        \"std\": 1,\n        \"min\": 0,\n        \"max\": 8,\n        \"num_unique_values\": 7,\n        \"samples\": [\n          1,\n          0\n        ],\n        \"semantic_type\": \"\",\n        \"description\": \"\"\n      }\n    },\n    {\n      \"column\": \"Parch\",\n      \"properties\": {\n        \"dtype\": \"number\",\n        \"std\": 0,\n        \"min\": 0,\n        \"max\": 6,\n        \"num_unique_values\": 7,\n        \"samples\": [\n          0,\n          1\n        ],\n        \"semantic_type\": \"\",\n        \"description\": \"\"\n      }\n    },\n    {\n      \"column\": \"Ticket\",\n      \"properties\": {\n        \"dtype\": \"string\",\n        \"num_unique_values\": 681,\n        \"samples\": [\n          \"11774\",\n          \"248740\"\n        ],\n        \"semantic_type\": \"\",\n        \"description\": \"\"\n      }\n    },\n    {\n      \"column\": \"Fare\",\n      \"properties\": {\n        \"dtype\": \"number\",\n        \"std\": 49.6934285971809,\n        \"min\": 0.0,\n        \"max\": 512.3292,\n        \"num_unique_values\": 248,\n        \"samples\": [\n          11.2417,\n          51.8625\n        ],\n        \"semantic_type\": \"\",\n        \"description\": \"\"\n      }\n    },\n    {\n      \"column\": \"Cabin\",\n      \"properties\": {\n        \"dtype\": \"category\",\n        \"num_unique_values\": 147,\n        \"samples\": [\n          \"D45\",\n          \"B49\"\n        ],\n        \"semantic_type\": \"\",\n        \"description\": \"\"\n      }\n    },\n    {\n      \"column\": \"Embarked\",\n      \"properties\": {\n        \"dtype\": \"category\",\n        \"num_unique_values\": 3,\n        \"samples\": [\n          \"S\",\n          \"C\"\n        ],\n        \"semantic_type\": \"\",\n        \"description\": \"\"\n      }\n    }\n  ]\n}"
            }
          },
          "metadata": {},
          "execution_count": 210
        }
      ]
    },
    {
      "cell_type": "code",
      "execution_count": null,
      "metadata": {
        "colab": {
          "base_uri": "https://localhost:8080/"
        },
        "execution": {
          "iopub.execute_input": "2024-07-17T18:22:15.547397Z",
          "iopub.status.busy": "2024-07-17T18:22:15.546372Z",
          "iopub.status.idle": "2024-07-17T18:22:15.552803Z",
          "shell.execute_reply": "2024-07-17T18:22:15.551688Z",
          "shell.execute_reply.started": "2024-07-17T18:22:15.547349Z"
        },
        "id": "b57hT8ml86nD",
        "outputId": "49ed64ff-61fd-42fa-885f-04938872beed",
        "trusted": true
      },
      "outputs": [
        {
          "output_type": "execute_result",
          "data": {
            "text/plain": [
              "(891, 12)"
            ]
          },
          "metadata": {},
          "execution_count": 211
        }
      ],
      "source": [
        "train.shape"
      ]
    },
    {
      "cell_type": "code",
      "execution_count": null,
      "metadata": {
        "colab": {
          "base_uri": "https://localhost:8080/",
          "height": 300
        },
        "id": "zw431FmA86nD",
        "outputId": "3e5afba6-7c40-4906-cafe-21985a011c97"
      },
      "outputs": [
        {
          "output_type": "execute_result",
          "data": {
            "text/plain": [
              "       PassengerId    Survived      Pclass         Age       SibSp  \\\n",
              "count   891.000000  891.000000  891.000000  714.000000  891.000000   \n",
              "mean    446.000000    0.383838    2.308642   29.699118    0.523008   \n",
              "std     257.353842    0.486592    0.836071   14.526497    1.102743   \n",
              "min       1.000000    0.000000    1.000000    0.420000    0.000000   \n",
              "25%     223.500000    0.000000    2.000000   20.125000    0.000000   \n",
              "50%     446.000000    0.000000    3.000000   28.000000    0.000000   \n",
              "75%     668.500000    1.000000    3.000000   38.000000    1.000000   \n",
              "max     891.000000    1.000000    3.000000   80.000000    8.000000   \n",
              "\n",
              "            Parch        Fare  \n",
              "count  891.000000  891.000000  \n",
              "mean     0.381594   32.204208  \n",
              "std      0.806057   49.693429  \n",
              "min      0.000000    0.000000  \n",
              "25%      0.000000    7.910400  \n",
              "50%      0.000000   14.454200  \n",
              "75%      0.000000   31.000000  \n",
              "max      6.000000  512.329200  "
            ],
            "text/html": [
              "\n",
              "  <div id=\"df-e93195a7-cf25-4a65-8050-35c475bca9aa\" class=\"colab-df-container\">\n",
              "    <div>\n",
              "<style scoped>\n",
              "    .dataframe tbody tr th:only-of-type {\n",
              "        vertical-align: middle;\n",
              "    }\n",
              "\n",
              "    .dataframe tbody tr th {\n",
              "        vertical-align: top;\n",
              "    }\n",
              "\n",
              "    .dataframe thead th {\n",
              "        text-align: right;\n",
              "    }\n",
              "</style>\n",
              "<table border=\"1\" class=\"dataframe\">\n",
              "  <thead>\n",
              "    <tr style=\"text-align: right;\">\n",
              "      <th></th>\n",
              "      <th>PassengerId</th>\n",
              "      <th>Survived</th>\n",
              "      <th>Pclass</th>\n",
              "      <th>Age</th>\n",
              "      <th>SibSp</th>\n",
              "      <th>Parch</th>\n",
              "      <th>Fare</th>\n",
              "    </tr>\n",
              "  </thead>\n",
              "  <tbody>\n",
              "    <tr>\n",
              "      <th>count</th>\n",
              "      <td>891.000000</td>\n",
              "      <td>891.000000</td>\n",
              "      <td>891.000000</td>\n",
              "      <td>714.000000</td>\n",
              "      <td>891.000000</td>\n",
              "      <td>891.000000</td>\n",
              "      <td>891.000000</td>\n",
              "    </tr>\n",
              "    <tr>\n",
              "      <th>mean</th>\n",
              "      <td>446.000000</td>\n",
              "      <td>0.383838</td>\n",
              "      <td>2.308642</td>\n",
              "      <td>29.699118</td>\n",
              "      <td>0.523008</td>\n",
              "      <td>0.381594</td>\n",
              "      <td>32.204208</td>\n",
              "    </tr>\n",
              "    <tr>\n",
              "      <th>std</th>\n",
              "      <td>257.353842</td>\n",
              "      <td>0.486592</td>\n",
              "      <td>0.836071</td>\n",
              "      <td>14.526497</td>\n",
              "      <td>1.102743</td>\n",
              "      <td>0.806057</td>\n",
              "      <td>49.693429</td>\n",
              "    </tr>\n",
              "    <tr>\n",
              "      <th>min</th>\n",
              "      <td>1.000000</td>\n",
              "      <td>0.000000</td>\n",
              "      <td>1.000000</td>\n",
              "      <td>0.420000</td>\n",
              "      <td>0.000000</td>\n",
              "      <td>0.000000</td>\n",
              "      <td>0.000000</td>\n",
              "    </tr>\n",
              "    <tr>\n",
              "      <th>25%</th>\n",
              "      <td>223.500000</td>\n",
              "      <td>0.000000</td>\n",
              "      <td>2.000000</td>\n",
              "      <td>20.125000</td>\n",
              "      <td>0.000000</td>\n",
              "      <td>0.000000</td>\n",
              "      <td>7.910400</td>\n",
              "    </tr>\n",
              "    <tr>\n",
              "      <th>50%</th>\n",
              "      <td>446.000000</td>\n",
              "      <td>0.000000</td>\n",
              "      <td>3.000000</td>\n",
              "      <td>28.000000</td>\n",
              "      <td>0.000000</td>\n",
              "      <td>0.000000</td>\n",
              "      <td>14.454200</td>\n",
              "    </tr>\n",
              "    <tr>\n",
              "      <th>75%</th>\n",
              "      <td>668.500000</td>\n",
              "      <td>1.000000</td>\n",
              "      <td>3.000000</td>\n",
              "      <td>38.000000</td>\n",
              "      <td>1.000000</td>\n",
              "      <td>0.000000</td>\n",
              "      <td>31.000000</td>\n",
              "    </tr>\n",
              "    <tr>\n",
              "      <th>max</th>\n",
              "      <td>891.000000</td>\n",
              "      <td>1.000000</td>\n",
              "      <td>3.000000</td>\n",
              "      <td>80.000000</td>\n",
              "      <td>8.000000</td>\n",
              "      <td>6.000000</td>\n",
              "      <td>512.329200</td>\n",
              "    </tr>\n",
              "  </tbody>\n",
              "</table>\n",
              "</div>\n",
              "    <div class=\"colab-df-buttons\">\n",
              "\n",
              "  <div class=\"colab-df-container\">\n",
              "    <button class=\"colab-df-convert\" onclick=\"convertToInteractive('df-e93195a7-cf25-4a65-8050-35c475bca9aa')\"\n",
              "            title=\"Convert this dataframe to an interactive table.\"\n",
              "            style=\"display:none;\">\n",
              "\n",
              "  <svg xmlns=\"http://www.w3.org/2000/svg\" height=\"24px\" viewBox=\"0 -960 960 960\">\n",
              "    <path d=\"M120-120v-720h720v720H120Zm60-500h600v-160H180v160Zm220 220h160v-160H400v160Zm0 220h160v-160H400v160ZM180-400h160v-160H180v160Zm440 0h160v-160H620v160ZM180-180h160v-160H180v160Zm440 0h160v-160H620v160Z\"/>\n",
              "  </svg>\n",
              "    </button>\n",
              "\n",
              "  <style>\n",
              "    .colab-df-container {\n",
              "      display:flex;\n",
              "      gap: 12px;\n",
              "    }\n",
              "\n",
              "    .colab-df-convert {\n",
              "      background-color: #E8F0FE;\n",
              "      border: none;\n",
              "      border-radius: 50%;\n",
              "      cursor: pointer;\n",
              "      display: none;\n",
              "      fill: #1967D2;\n",
              "      height: 32px;\n",
              "      padding: 0 0 0 0;\n",
              "      width: 32px;\n",
              "    }\n",
              "\n",
              "    .colab-df-convert:hover {\n",
              "      background-color: #E2EBFA;\n",
              "      box-shadow: 0px 1px 2px rgba(60, 64, 67, 0.3), 0px 1px 3px 1px rgba(60, 64, 67, 0.15);\n",
              "      fill: #174EA6;\n",
              "    }\n",
              "\n",
              "    .colab-df-buttons div {\n",
              "      margin-bottom: 4px;\n",
              "    }\n",
              "\n",
              "    [theme=dark] .colab-df-convert {\n",
              "      background-color: #3B4455;\n",
              "      fill: #D2E3FC;\n",
              "    }\n",
              "\n",
              "    [theme=dark] .colab-df-convert:hover {\n",
              "      background-color: #434B5C;\n",
              "      box-shadow: 0px 1px 3px 1px rgba(0, 0, 0, 0.15);\n",
              "      filter: drop-shadow(0px 1px 2px rgba(0, 0, 0, 0.3));\n",
              "      fill: #FFFFFF;\n",
              "    }\n",
              "  </style>\n",
              "\n",
              "    <script>\n",
              "      const buttonEl =\n",
              "        document.querySelector('#df-e93195a7-cf25-4a65-8050-35c475bca9aa button.colab-df-convert');\n",
              "      buttonEl.style.display =\n",
              "        google.colab.kernel.accessAllowed ? 'block' : 'none';\n",
              "\n",
              "      async function convertToInteractive(key) {\n",
              "        const element = document.querySelector('#df-e93195a7-cf25-4a65-8050-35c475bca9aa');\n",
              "        const dataTable =\n",
              "          await google.colab.kernel.invokeFunction('convertToInteractive',\n",
              "                                                    [key], {});\n",
              "        if (!dataTable) return;\n",
              "\n",
              "        const docLinkHtml = 'Like what you see? Visit the ' +\n",
              "          '<a target=\"_blank\" href=https://colab.research.google.com/notebooks/data_table.ipynb>data table notebook</a>'\n",
              "          + ' to learn more about interactive tables.';\n",
              "        element.innerHTML = '';\n",
              "        dataTable['output_type'] = 'display_data';\n",
              "        await google.colab.output.renderOutput(dataTable, element);\n",
              "        const docLink = document.createElement('div');\n",
              "        docLink.innerHTML = docLinkHtml;\n",
              "        element.appendChild(docLink);\n",
              "      }\n",
              "    </script>\n",
              "  </div>\n",
              "\n",
              "\n",
              "<div id=\"df-7ab823a7-6c9d-41f9-8118-ab5a75ead39d\">\n",
              "  <button class=\"colab-df-quickchart\" onclick=\"quickchart('df-7ab823a7-6c9d-41f9-8118-ab5a75ead39d')\"\n",
              "            title=\"Suggest charts\"\n",
              "            style=\"display:none;\">\n",
              "\n",
              "<svg xmlns=\"http://www.w3.org/2000/svg\" height=\"24px\"viewBox=\"0 0 24 24\"\n",
              "     width=\"24px\">\n",
              "    <g>\n",
              "        <path d=\"M19 3H5c-1.1 0-2 .9-2 2v14c0 1.1.9 2 2 2h14c1.1 0 2-.9 2-2V5c0-1.1-.9-2-2-2zM9 17H7v-7h2v7zm4 0h-2V7h2v10zm4 0h-2v-4h2v4z\"/>\n",
              "    </g>\n",
              "</svg>\n",
              "  </button>\n",
              "\n",
              "<style>\n",
              "  .colab-df-quickchart {\n",
              "      --bg-color: #E8F0FE;\n",
              "      --fill-color: #1967D2;\n",
              "      --hover-bg-color: #E2EBFA;\n",
              "      --hover-fill-color: #174EA6;\n",
              "      --disabled-fill-color: #AAA;\n",
              "      --disabled-bg-color: #DDD;\n",
              "  }\n",
              "\n",
              "  [theme=dark] .colab-df-quickchart {\n",
              "      --bg-color: #3B4455;\n",
              "      --fill-color: #D2E3FC;\n",
              "      --hover-bg-color: #434B5C;\n",
              "      --hover-fill-color: #FFFFFF;\n",
              "      --disabled-bg-color: #3B4455;\n",
              "      --disabled-fill-color: #666;\n",
              "  }\n",
              "\n",
              "  .colab-df-quickchart {\n",
              "    background-color: var(--bg-color);\n",
              "    border: none;\n",
              "    border-radius: 50%;\n",
              "    cursor: pointer;\n",
              "    display: none;\n",
              "    fill: var(--fill-color);\n",
              "    height: 32px;\n",
              "    padding: 0;\n",
              "    width: 32px;\n",
              "  }\n",
              "\n",
              "  .colab-df-quickchart:hover {\n",
              "    background-color: var(--hover-bg-color);\n",
              "    box-shadow: 0 1px 2px rgba(60, 64, 67, 0.3), 0 1px 3px 1px rgba(60, 64, 67, 0.15);\n",
              "    fill: var(--button-hover-fill-color);\n",
              "  }\n",
              "\n",
              "  .colab-df-quickchart-complete:disabled,\n",
              "  .colab-df-quickchart-complete:disabled:hover {\n",
              "    background-color: var(--disabled-bg-color);\n",
              "    fill: var(--disabled-fill-color);\n",
              "    box-shadow: none;\n",
              "  }\n",
              "\n",
              "  .colab-df-spinner {\n",
              "    border: 2px solid var(--fill-color);\n",
              "    border-color: transparent;\n",
              "    border-bottom-color: var(--fill-color);\n",
              "    animation:\n",
              "      spin 1s steps(1) infinite;\n",
              "  }\n",
              "\n",
              "  @keyframes spin {\n",
              "    0% {\n",
              "      border-color: transparent;\n",
              "      border-bottom-color: var(--fill-color);\n",
              "      border-left-color: var(--fill-color);\n",
              "    }\n",
              "    20% {\n",
              "      border-color: transparent;\n",
              "      border-left-color: var(--fill-color);\n",
              "      border-top-color: var(--fill-color);\n",
              "    }\n",
              "    30% {\n",
              "      border-color: transparent;\n",
              "      border-left-color: var(--fill-color);\n",
              "      border-top-color: var(--fill-color);\n",
              "      border-right-color: var(--fill-color);\n",
              "    }\n",
              "    40% {\n",
              "      border-color: transparent;\n",
              "      border-right-color: var(--fill-color);\n",
              "      border-top-color: var(--fill-color);\n",
              "    }\n",
              "    60% {\n",
              "      border-color: transparent;\n",
              "      border-right-color: var(--fill-color);\n",
              "    }\n",
              "    80% {\n",
              "      border-color: transparent;\n",
              "      border-right-color: var(--fill-color);\n",
              "      border-bottom-color: var(--fill-color);\n",
              "    }\n",
              "    90% {\n",
              "      border-color: transparent;\n",
              "      border-bottom-color: var(--fill-color);\n",
              "    }\n",
              "  }\n",
              "</style>\n",
              "\n",
              "  <script>\n",
              "    async function quickchart(key) {\n",
              "      const quickchartButtonEl =\n",
              "        document.querySelector('#' + key + ' button');\n",
              "      quickchartButtonEl.disabled = true;  // To prevent multiple clicks.\n",
              "      quickchartButtonEl.classList.add('colab-df-spinner');\n",
              "      try {\n",
              "        const charts = await google.colab.kernel.invokeFunction(\n",
              "            'suggestCharts', [key], {});\n",
              "      } catch (error) {\n",
              "        console.error('Error during call to suggestCharts:', error);\n",
              "      }\n",
              "      quickchartButtonEl.classList.remove('colab-df-spinner');\n",
              "      quickchartButtonEl.classList.add('colab-df-quickchart-complete');\n",
              "    }\n",
              "    (() => {\n",
              "      let quickchartButtonEl =\n",
              "        document.querySelector('#df-7ab823a7-6c9d-41f9-8118-ab5a75ead39d button');\n",
              "      quickchartButtonEl.style.display =\n",
              "        google.colab.kernel.accessAllowed ? 'block' : 'none';\n",
              "    })();\n",
              "  </script>\n",
              "</div>\n",
              "    </div>\n",
              "  </div>\n"
            ],
            "application/vnd.google.colaboratory.intrinsic+json": {
              "type": "dataframe",
              "summary": "{\n  \"name\": \"train\",\n  \"rows\": 8,\n  \"fields\": [\n    {\n      \"column\": \"PassengerId\",\n      \"properties\": {\n        \"dtype\": \"number\",\n        \"std\": 320.8159711429855,\n        \"min\": 1.0,\n        \"max\": 891.0,\n        \"num_unique_values\": 6,\n        \"samples\": [\n          891.0,\n          446.0,\n          668.5\n        ],\n        \"semantic_type\": \"\",\n        \"description\": \"\"\n      }\n    },\n    {\n      \"column\": \"Survived\",\n      \"properties\": {\n        \"dtype\": \"number\",\n        \"std\": 314.8713661874558,\n        \"min\": 0.0,\n        \"max\": 891.0,\n        \"num_unique_values\": 5,\n        \"samples\": [\n          0.3838383838383838,\n          1.0,\n          0.4865924542648575\n        ],\n        \"semantic_type\": \"\",\n        \"description\": \"\"\n      }\n    },\n    {\n      \"column\": \"Pclass\",\n      \"properties\": {\n        \"dtype\": \"number\",\n        \"std\": 314.2523437079694,\n        \"min\": 0.836071240977049,\n        \"max\": 891.0,\n        \"num_unique_values\": 6,\n        \"samples\": [\n          891.0,\n          2.308641975308642,\n          3.0\n        ],\n        \"semantic_type\": \"\",\n        \"description\": \"\"\n      }\n    },\n    {\n      \"column\": \"Age\",\n      \"properties\": {\n        \"dtype\": \"number\",\n        \"std\": 242.9056731818781,\n        \"min\": 0.42,\n        \"max\": 714.0,\n        \"num_unique_values\": 8,\n        \"samples\": [\n          29.69911764705882,\n          28.0,\n          714.0\n        ],\n        \"semantic_type\": \"\",\n        \"description\": \"\"\n      }\n    },\n    {\n      \"column\": \"SibSp\",\n      \"properties\": {\n        \"dtype\": \"number\",\n        \"std\": 314.4908277465442,\n        \"min\": 0.0,\n        \"max\": 891.0,\n        \"num_unique_values\": 6,\n        \"samples\": [\n          891.0,\n          0.5230078563411896,\n          8.0\n        ],\n        \"semantic_type\": \"\",\n        \"description\": \"\"\n      }\n    },\n    {\n      \"column\": \"Parch\",\n      \"properties\": {\n        \"dtype\": \"number\",\n        \"std\": 314.65971717879,\n        \"min\": 0.0,\n        \"max\": 891.0,\n        \"num_unique_values\": 5,\n        \"samples\": [\n          0.38159371492704824,\n          6.0,\n          0.8060572211299483\n        ],\n        \"semantic_type\": \"\",\n        \"description\": \"\"\n      }\n    },\n    {\n      \"column\": \"Fare\",\n      \"properties\": {\n        \"dtype\": \"number\",\n        \"std\": 330.6256632228578,\n        \"min\": 0.0,\n        \"max\": 891.0,\n        \"num_unique_values\": 8,\n        \"samples\": [\n          32.204207968574636,\n          14.4542,\n          891.0\n        ],\n        \"semantic_type\": \"\",\n        \"description\": \"\"\n      }\n    }\n  ]\n}"
            }
          },
          "metadata": {},
          "execution_count": 212
        }
      ],
      "source": [
        "train.describe()"
      ]
    },
    {
      "cell_type": "code",
      "execution_count": null,
      "metadata": {
        "colab": {
          "base_uri": "https://localhost:8080/"
        },
        "id": "lg9F0pH086nD",
        "outputId": "0e2c1abf-bf92-44d3-bb17-b8a2f473236e"
      },
      "outputs": [
        {
          "output_type": "stream",
          "name": "stdout",
          "text": [
            "<class 'pandas.core.frame.DataFrame'>\n",
            "RangeIndex: 891 entries, 0 to 890\n",
            "Data columns (total 12 columns):\n",
            " #   Column       Non-Null Count  Dtype  \n",
            "---  ------       --------------  -----  \n",
            " 0   PassengerId  891 non-null    int64  \n",
            " 1   Survived     891 non-null    int64  \n",
            " 2   Pclass       891 non-null    int64  \n",
            " 3   Name         891 non-null    object \n",
            " 4   Sex          891 non-null    object \n",
            " 5   Age          714 non-null    float64\n",
            " 6   SibSp        891 non-null    int64  \n",
            " 7   Parch        891 non-null    int64  \n",
            " 8   Ticket       891 non-null    object \n",
            " 9   Fare         891 non-null    float64\n",
            " 10  Cabin        204 non-null    object \n",
            " 11  Embarked     889 non-null    object \n",
            "dtypes: float64(2), int64(5), object(5)\n",
            "memory usage: 83.7+ KB\n"
          ]
        }
      ],
      "source": [
        "train.info()"
      ]
    },
    {
      "cell_type": "markdown",
      "metadata": {
        "id": "w0Dl8Vsf86nD"
      },
      "source": [
        "Рассмотрим смысл данных колонок, чтобы исходя из здравого смысла прикинуть какие из них могут влиять на предсказание в наибольшей степени.\n",
        "\n",
        "- **PassengerId** - id пассажира. Такой признак может помешать нам при обучении модели, поскольук она может просто для каждого пассажира запомнить выжил он или нет, и тогда обобщающая способность будет низкой, просто переобучимся на данных, значит от него нужно избавиться.\n",
        "- **Survived** - выжил человек или нет, в трейне он нам не нужен, потом дропнем.\n",
        "- **Pclass** - показатель социально-экономического статуса (1 - наивысший), есть предположения, что людей с наивысшим статусом охотнее спасали (обычно более влиятельных людей стремяться спасти).\n",
        "- **Name** - имя, оно тоже будет нам мешать при обучении, так как здравый смысл подсказывает, что имя вряд ли скоррелированно с выживаемостью, опять таки модель может просто запомнить имена выживших и переобучится.\n",
        "- **Sex** - пол, кажется что этот признак будет одним из важных, поскольку в реальной жизни обычно в первую очередь спасают женщин и детей.\n",
        "- **Age** - возраст, по нему есть предположение, что более молодые выживали, потому что это дети, которых, как написано в пункте выше, спасали охотнее.\n",
        "- **SibSp** - число братьев и сестёр / супругов на борту \"Титаника\", есть предположения, что эти статусы будут немного влиять на выживаемость, потому что они связаны одновременно и с возрастом, и с полом, плюс, если человек брат кому-то, то скорее он захочет не только спастись сам, но и спасти своих родных, то есть семьями могут выживать, если это жена, то она может выжить благодаря мужу, который позаботиться о ней.\n",
        "- **Parch** - число родителей / детей на борту, есть идея, что если у человека, особенно женщины, много детей на борту, то она спасётся вместе с детьми.\n",
        "- **Ticket** - номер билета, он в целом может влиять, например, при экстренных ситуациях обычно спасают богатых, а номера билета могут коррелировать с типом социального статуса, но здесь нужно найти закономерность в генерации номеров, это довольно сложно и не факт, что такой признак даст профит.\n",
        "- **Fare** - стоимость билета, может быть важным признаком, при теории, что богатых спасают, а зачастую стоимоть билета отражает статус человека.\n",
        "- **Cabin** - номер кабины, здесь номер кабины может что-то дать, например, корабль может тонуть с одной стороны его может затапливать, а с другой нет, поэтому кабины с определённым номерами заполняются водой быстрее, и как следствие, люди умирают там быстрее, НО здесь много пропусков, поэтому, кажется, что будет трудно вытянуть полезную информацию из этого признака.\n",
        "- **Embarked** - порт посадки, адекватных предложений как этот признак мог влиять нет, только если все богатые люди садились в определённом порту, что скореллированно с социальным статусом и ценой на билет, или новоприбывшие люди оставались на палубе, и, как следствие, спасались быстрее, так как узнали о случившимся первыми."
      ]
    },
    {
      "cell_type": "code",
      "source": [
        "train.drop('PassengerId', axis=1, inplace=True)"
      ],
      "metadata": {
        "id": "RrJS0X685nQE"
      },
      "execution_count": 4,
      "outputs": []
    },
    {
      "cell_type": "markdown",
      "source": [
        "## Боремся с пропусками"
      ],
      "metadata": {
        "id": "cyaxmUVv1ud1"
      }
    },
    {
      "cell_type": "markdown",
      "metadata": {
        "id": "UQEsp0WQ_cIm"
      },
      "source": [
        "На данном этапе можно заметить, что есть довольно много пропусков в колонке Cabin, так же есть некоторое количество пропусков в Age и Embarked. Обычно, если в колонке не так много пропусков, их заменяют \"нейтральными\" элементами по колонке, например, среднее / медиана."
      ]
    },
    {
      "cell_type": "code",
      "source": [
        "train['Cabin'].isnull().sum() / len(train['Cabin'])"
      ],
      "metadata": {
        "colab": {
          "base_uri": "https://localhost:8080/"
        },
        "id": "N-P7XTdlyOgu",
        "outputId": "2e6c111e-c64d-4e83-c541-3b194824b165"
      },
      "execution_count": 5,
      "outputs": [
        {
          "output_type": "execute_result",
          "data": {
            "text/plain": [
              "0.7710437710437711"
            ]
          },
          "metadata": {},
          "execution_count": 5
        }
      ]
    },
    {
      "cell_type": "code",
      "source": [
        "train['Age'].isnull().sum() / len(train['Age'])"
      ],
      "metadata": {
        "colab": {
          "base_uri": "https://localhost:8080/"
        },
        "id": "DAiNJ_K40qkF",
        "outputId": "30aeb099-0f1c-422f-ebb1-5f65c6b87219"
      },
      "execution_count": 6,
      "outputs": [
        {
          "output_type": "execute_result",
          "data": {
            "text/plain": [
              "0.19865319865319866"
            ]
          },
          "metadata": {},
          "execution_count": 6
        }
      ]
    },
    {
      "cell_type": "code",
      "source": [
        "train['Embarked'].isnull().sum() / len(train['Embarked'])"
      ],
      "metadata": {
        "colab": {
          "base_uri": "https://localhost:8080/"
        },
        "id": "_ghT3mFU0vrc",
        "outputId": "8a0d0391-d5f0-479f-8880-c8c910a699e7"
      },
      "execution_count": 7,
      "outputs": [
        {
          "output_type": "execute_result",
          "data": {
            "text/plain": [
              "0.002244668911335578"
            ]
          },
          "metadata": {},
          "execution_count": 7
        }
      ]
    },
    {
      "cell_type": "markdown",
      "source": [
        "Пропусков в Cabin крайне много, больше половины, поэтому усреднять смысла особого нет, дропнем эту колонку, другие же колонки имеют не так много пропусков, пропуски в Age заполним средним значением (так как это числовой признак), а Embarked модой."
      ],
      "metadata": {
        "id": "V_arYcuS0177"
      }
    },
    {
      "cell_type": "code",
      "source": [
        "train.drop('Cabin', axis=1, inplace=True)"
      ],
      "metadata": {
        "id": "oGi6sFWa2lck"
      },
      "execution_count": 8,
      "outputs": []
    },
    {
      "cell_type": "code",
      "source": [
        "train['Age'] = train['Age'].fillna(train['Age'].mean())"
      ],
      "metadata": {
        "id": "K9h27ZuO2H1y"
      },
      "execution_count": 9,
      "outputs": []
    },
    {
      "cell_type": "code",
      "source": [
        "norm_mode = train[~(train['Embarked'].isna())]['Embarked'].mode()\n",
        "train['Embarked'] = train['Embarked'].fillna(norm_mode)"
      ],
      "metadata": {
        "id": "0GqhWTdj2jHW"
      },
      "execution_count": 10,
      "outputs": []
    },
    {
      "cell_type": "markdown",
      "source": [
        "## Выбираем признаки"
      ],
      "metadata": {
        "id": "AzmVpGAT4bPb"
      }
    },
    {
      "cell_type": "markdown",
      "metadata": {
        "id": "Q4UOA6Vw86nD"
      },
      "source": [
        "Пока переключимся на данные и их числовые характеристики. Посмотрим на соотношение выживших и умерших, то есть на соотношение наших двух классов, если будет дисбаланс, то придётся думать как решать данную проблему."
      ]
    },
    {
      "cell_type": "code",
      "execution_count": 11,
      "metadata": {
        "colab": {
          "base_uri": "https://localhost:8080/"
        },
        "execution": {
          "iopub.execute_input": "2024-07-17T18:22:15.610386Z",
          "iopub.status.busy": "2024-07-17T18:22:15.609864Z",
          "iopub.status.idle": "2024-07-17T18:22:15.781542Z",
          "shell.execute_reply": "2024-07-17T18:22:15.780475Z",
          "shell.execute_reply.started": "2024-07-17T18:22:15.610348Z"
        },
        "id": "kRTI2pdc86nE",
        "outputId": "862dcde8-0d09-479d-b631-ab138987917e",
        "trusted": true
      },
      "outputs": [
        {
          "output_type": "stream",
          "name": "stdout",
          "text": [
            "0.6161616161616161 0.3838383838383838\n"
          ]
        }
      ],
      "source": [
        "is_surv = train.groupby('Survived', as_index=False).count()\n",
        "died, live = is_surv['Age']\n",
        "print(died / (died + live),live / (died + live))"
      ]
    },
    {
      "cell_type": "markdown",
      "metadata": {
        "id": "hdij6k7H86nE"
      },
      "source": [
        "Погибших людей больше, но различия в количествах объектов классов не критичная, то есть сильного дисбаланса классов нет, а значит, можно сразу загонять данные в модель и обучаться на них."
      ]
    },
    {
      "cell_type": "markdown",
      "metadata": {
        "id": "CRngYbK_PiPY"
      },
      "source": [
        "Рассмотрим распределение признаков."
      ]
    },
    {
      "cell_type": "code",
      "execution_count": null,
      "metadata": {
        "id": "ZHqDPzQrPuAf"
      },
      "outputs": [],
      "source": [
        "columns = ['Survived', 'Pclass', 'Sex', 'Age', 'SibSp', 'Parch', 'Fare']"
      ]
    },
    {
      "cell_type": "code",
      "execution_count": null,
      "metadata": {
        "id": "QHqdr9mfN9TV"
      },
      "outputs": [],
      "source": [
        "def raspr(df, column):\n",
        "  df[column].hist(bins=50)\n",
        "  plt.xlabel(column)\n",
        "  plt.ylabel('Частота')\n",
        "  return plt"
      ]
    },
    {
      "cell_type": "code",
      "execution_count": null,
      "metadata": {
        "colab": {
          "base_uri": "https://localhost:8080/",
          "height": 1000
        },
        "collapsed": true,
        "id": "ZLzMSvzBO3Jg",
        "outputId": "6898cb6d-9ab7-4e86-8f93-ca3d2a8e78b3"
      },
      "outputs": [
        {
          "output_type": "display_data",
          "data": {
            "text/plain": [
              "<Figure size 1100x700 with 1 Axes>"
            ],
            "image/png": "[encoded data removed]"
          },
          "metadata": {}
        },
        {
          "output_type": "display_data",
          "data": {
            "text/plain": [
              "<Figure size 1100x700 with 1 Axes>"
            ],
            "image/png": "[encoded data removed]"
          },
          "metadata": {}
        },
        {
          "output_type": "display_data",
          "data": {
            "text/plain": [
              "<Figure size 1100x700 with 1 Axes>"
            ],
            "image/png": "[encoded data removed]"
          },
          "metadata": {}
        },
        {
          "output_type": "display_data",
          "data": {
            "text/plain": [
              "<Figure size 1100x700 with 1 Axes>"
            ],
            "image/png": "[encoded data removed]"
          },
          "metadata": {}
        },
        {
          "output_type": "display_data",
          "data": {
            "text/plain": [
              "<Figure size 1100x700 with 1 Axes>"
            ],
            "image/png": "[encoded data removed]"
          },
          "metadata": {}
        },
        {
          "output_type": "display_data",
          "data": {
            "text/plain": [
              "<Figure size 1100x700 with 1 Axes>"
            ],
            "image/png": "[encoded data removed]"
          },
          "metadata": {}
        },
        {
          "output_type": "display_data",
          "data": {
            "text/plain": [
              "<Figure size 1100x700 with 1 Axes>"
            ],
            "image/png": "[encoded data removed]"
          },
          "metadata": {}
        }
      ],
      "source": [
        "for col in columns:\n",
        "  raspr(train, col).show()"
      ]
    },
    {
      "cell_type": "markdown",
      "metadata": {
        "id": "a1gCzf3uQgou"
      },
      "source": [
        "Благодаря таким графикам мы можем сделать анализ и примерно представить себе людей, которые были на Титанике.\n",
        "- Людей третьего класса было столько же, сколько первого и второго в сумме, а первого и второго почти поровну.\n",
        "- Женщин было почти в два раза больше, чем мужчин.\n",
        "- Распределение возраста отадлённо напоминает нормальное распределение, больше всего людей, которым 20-30 лет, а также детей больше, чем пожилых.\n",
        "- Большинство не имело родственников, но у кого-то было 8 родственников на борту.\n",
        "- Людей без детей больше, чем с детьми.\n",
        "- Много кто купил дешёвые билеты."
      ]
    },
    {
      "cell_type": "markdown",
      "metadata": {
        "id": "UZv77eiw813K"
      },
      "source": [
        "### Посмотрим на различные корреляции"
      ]
    },
    {
      "cell_type": "markdown",
      "metadata": {
        "id": "lpc3EQxX86nD"
      },
      "source": [
        "После выдвижения гипотез о том, какие признаки действительно могут влиять, нужно проверить верны ли они, то есть понять, какие признаки можно убрать без потери или даже с улучшением качества модели. Хороший способ - это посмотреть на корреляцию признаков между собой и выживаемостью."
      ]
    },
    {
      "cell_type": "markdown",
      "metadata": {
        "id": "XpRh9w5dxyHF"
      },
      "source": [
        "Так как есть категориальные переменные, то их нужно векторизовать, чтобы можно было посчитать коэффициент корреляции"
      ]
    },
    {
      "cell_type": "code",
      "execution_count": 12,
      "metadata": {
        "colab": {
          "base_uri": "https://localhost:8080/",
          "height": 940
        },
        "id": "t9A7UzNcxyHF",
        "outputId": "a40cc9f3-381e-44bb-886a-a5235a495b0d"
      },
      "outputs": [
        {
          "output_type": "stream",
          "name": "stderr",
          "text": [
            "<ipython-input-12-1e011bff75f9>:6: SettingWithCopyWarning: \n",
            "A value is trying to be set on a copy of a slice from a DataFrame.\n",
            "Try using .loc[row_indexer,col_indexer] = value instead\n",
            "\n",
            "See the caveats in the documentation: https://pandas.pydata.org/pandas-docs/stable/user_guide/indexing.html#returning-a-view-versus-a-copy\n",
            "  for_corr[i] = labels\n",
            "<ipython-input-12-1e011bff75f9>:6: SettingWithCopyWarning: \n",
            "A value is trying to be set on a copy of a slice from a DataFrame.\n",
            "Try using .loc[row_indexer,col_indexer] = value instead\n",
            "\n",
            "See the caveats in the documentation: https://pandas.pydata.org/pandas-docs/stable/user_guide/indexing.html#returning-a-view-versus-a-copy\n",
            "  for_corr[i] = labels\n",
            "<ipython-input-12-1e011bff75f9>:6: SettingWithCopyWarning: \n",
            "A value is trying to be set on a copy of a slice from a DataFrame.\n",
            "Try using .loc[row_indexer,col_indexer] = value instead\n",
            "\n",
            "See the caveats in the documentation: https://pandas.pydata.org/pandas-docs/stable/user_guide/indexing.html#returning-a-view-versus-a-copy\n",
            "  for_corr[i] = labels\n"
          ]
        },
        {
          "output_type": "execute_result",
          "data": {
            "text/plain": [
              "<Axes: >"
            ]
          },
          "metadata": {},
          "execution_count": 12
        },
        {
          "output_type": "display_data",
          "data": {
            "text/plain": [
              "<Figure size 1100x700 with 2 Axes>"
            ],
            "image/png": "[encoded data removed]"
          },
          "metadata": {}
        }
      ],
      "source": [
        "from pandas import factorize\n",
        "for_corr = train[['Survived', 'Pclass', 'Age', 'SibSp', 'Parch', 'Fare']]\n",
        "to_factor = ['Name', 'Sex', 'Ticket', 'Embarked']\n",
        "for i in to_factor:\n",
        "    labels, categories = factorize(train[i])\n",
        "    for_corr[i] = labels\n",
        "sns.set_theme(rc={'figure.figsize':(11, 7)})\n",
        "sns.heatmap(for_corr.corr(), center=0.5, annot=True)"
      ]
    },
    {
      "cell_type": "markdown",
      "metadata": {
        "id": "ilISsHC_86nG"
      },
      "source": [
        "Исходя из таблицы корреляций, можно сделать такие выводы:\n",
        "- Survived сильно (относительно других признаков) коррелирует с Sex.\n",
        "- Survived отрицательно коррелирует с классом, то есть чем ниже (1 - наивысший) класс, тем меньше людей выживают.\n",
        "- Survived положительно коррелирует с Fare, что логично: чем выше цена, тем выше класс билета (это видно из корреляции Pclass и Fare).\n",
        "- Ticket слабо коррелирует с выживаемостью, к тому же номер билета подразумевает идентичность, а значит модель из-за этого может переобучиться, лучше дропнуть данный признак на текущем этапе.\n",
        "- Name коррелирует с Ticket, то есть, они фактически взаимозаменяемы, то есть тоже надо дропнуть.\n",
        "  \n",
        "Большинство гипотез, описанных нами при исследовании колонок, оказались верны."
      ]
    },
    {
      "cell_type": "code",
      "source": [
        "train.drop('Ticket', axis=1, inplace=True)"
      ],
      "metadata": {
        "id": "0l7zGPDw8KSy"
      },
      "execution_count": 13,
      "outputs": []
    },
    {
      "cell_type": "code",
      "source": [
        "train.drop('Name', axis=1, inplace=True)"
      ],
      "metadata": {
        "id": "6L5cm7tk8hyu"
      },
      "execution_count": 14,
      "outputs": []
    },
    {
      "cell_type": "markdown",
      "source": [
        "### Поисследуем сильно коррелирующие с выживаемостью признаки"
      ],
      "metadata": {
        "id": "UT9G2Mt88nkx"
      }
    },
    {
      "cell_type": "markdown",
      "metadata": {
        "id": "9EIQaWFpxyHF"
      },
      "source": [
        "Раз видна связь между выживаемостью и полом, то нужно взглянуть на распределение количества выживших женщин и мужчи."
      ]
    },
    {
      "cell_type": "code",
      "execution_count": 15,
      "metadata": {
        "execution": {
          "iopub.execute_input": "2024-07-17T18:22:17.162799Z",
          "iopub.status.busy": "2024-07-17T18:22:17.162350Z",
          "iopub.status.idle": "2024-07-17T18:22:17.387005Z",
          "shell.execute_reply": "2024-07-17T18:22:17.386029Z",
          "shell.execute_reply.started": "2024-07-17T18:22:17.162764Z"
        },
        "id": "MNAlBLJY86nH",
        "outputId": "3afad350-03a5-419e-b046-2eb9ea78fe6b",
        "trusted": true,
        "colab": {
          "base_uri": "https://localhost:8080/",
          "height": 651
        }
      },
      "outputs": [
        {
          "output_type": "display_data",
          "data": {
            "text/plain": [
              "<Figure size 1100x700 with 1 Axes>"
            ],
            "image/png": "[encoded data removed]"
          },
          "metadata": {}
        }
      ],
      "source": [
        "surv = train[train['Survived'] == 1]\n",
        "no_surv = train[train['Survived'] == 0]\n",
        "\n",
        "surv_by_gender = surv.groupby('Sex').size().values\n",
        "no_surv_by_gender = no_surv.groupby('Sex').size().values\n",
        "genders = [\"Female\", \"Male\"]\n",
        "\n",
        "per_woman_surv = surv.groupby('Sex').size().values[0] / (no_surv.groupby(\"Sex\").size().values[0] + surv.groupby(\"Sex\").size().values[0]) * 100\n",
        "per_woman_no_surv = 100 - per_woman_surv\n",
        "\n",
        "per_man_surv = surv.groupby('Sex').size().values[1] / (no_surv.groupby(\"Sex\").size().values[1] + surv.groupby(\"Sex\").size().values[1]) * 100\n",
        "per_man_no_surv = 100 - per_man_surv\n",
        "\n",
        "all_per = [per_woman_surv, per_man_surv, per_woman_no_surv, per_man_no_surv]\n",
        "\n",
        "\n",
        "\n",
        "f, ax = plt.subplots(1, figsize=(11, 7))\n",
        "ax.bar(range(len(surv_by_gender)), surv_by_gender, label='Выжившие', alpha=0.8, color='g')\n",
        "ax.bar(range(len(no_surv_by_gender)), no_surv_by_gender, bottom=surv_by_gender, label='Умершие', alpha=0.8, color='r')\n",
        "plt.sca(ax)\n",
        "plt.xticks([0, 1], genders)\n",
        "ax.set_ylabel(\"Количество людей\")\n",
        "ax.set_xlabel(\"Пол\")\n",
        "ax.set_title(\"Процент выживших по гендеру\",fontsize=14)\n",
        "plt.legend(loc='upper left')\n",
        "\n",
        "i = 0\n",
        "for p in ax.patches:\n",
        "    width = p.get_width()\n",
        "    height = p.get_height()\n",
        "    x, y = p.get_xy()\n",
        "    plt.text(x + width / 2, y + height * 1.01, str(round(all_per[i], 1)) + \"%\", ha=\"center\", weight='bold')\n",
        "    i += 1\n",
        "\n"
      ]
    },
    {
      "cell_type": "markdown",
      "metadata": {
        "id": "xsA4TbgMxyHF"
      },
      "source": [
        "Как видно из гистограммы, процент выживших женщин от всех женщин гораздо выше, чем процент выживших мужчин от всех мужчин, значит наша теория \"женщин (и детей) спасают первыми\" верна."
      ]
    },
    {
      "cell_type": "markdown",
      "metadata": {
        "id": "1FsR5O-2xyHG"
      },
      "source": [
        "Теперь посмотрим класс, в котором был пассажир, это вторая по абсолютному значению величина, которая коррелирует с выживаемостью"
      ]
    },
    {
      "cell_type": "code",
      "execution_count": 16,
      "metadata": {
        "execution": {
          "iopub.execute_input": "2024-07-17T18:22:17.130095Z",
          "iopub.status.busy": "2024-07-17T18:22:17.129392Z",
          "iopub.status.idle": "2024-07-17T18:22:17.145788Z",
          "shell.execute_reply": "2024-07-17T18:22:17.144832Z",
          "shell.execute_reply.started": "2024-07-17T18:22:17.130046Z"
        },
        "id": "Zw2B5GNf86nG",
        "trusted": true,
        "colab": {
          "base_uri": "https://localhost:8080/",
          "height": 651
        },
        "outputId": "36c3828c-aa73-43ef-ccf0-a66f4b1ecf23"
      },
      "outputs": [
        {
          "output_type": "display_data",
          "data": {
            "text/plain": [
              "<Figure size 1100x700 with 1 Axes>"
            ],
            "image/png": "[encoded data removed]"
          },
          "metadata": {}
        }
      ],
      "source": [
        "surv_by_class = surv.groupby(\"Pclass\").size().values\n",
        "no_surv_by_class = no_surv.groupby(\"Pclass\").size().values\n",
        "classes = [1, 2, 3]\n",
        "\n",
        "f_surv = surv.groupby(\"Pclass\").size().values[0]\n",
        "f_no_surv = no_surv.groupby(\"Pclass\").size().values[0]\n",
        "\n",
        "p_f_surv = f_surv / (f_surv + f_no_surv) * 100\n",
        "p_f_no_surv = f_no_surv / (f_surv + f_no_surv) * 100\n",
        "\n",
        "s_surv = surv.groupby(\"Pclass\").size().values[1]\n",
        "s_no_surv = no_surv.groupby(\"Pclass\").size().values[1]\n",
        "\n",
        "p_s_surv = s_surv / (s_surv + s_no_surv) * 100\n",
        "p_s_no_surv = s_no_surv / (s_surv + s_no_surv) * 100\n",
        "\n",
        "t_surv = surv.groupby(\"Pclass\").size().values[2]\n",
        "t_no_surv = no_surv.groupby(\"Pclass\").size().values[2]\n",
        "\n",
        "p_t_surv = t_surv / (t_surv + t_no_surv) * 100\n",
        "p_t_no_surv = t_no_surv / (t_surv + t_no_surv) * 100\n",
        "\n",
        "all_per = [p_f_surv, p_s_surv, p_t_surv, p_f_no_surv, p_s_no_surv, p_t_no_surv]\n",
        "\n",
        "\n",
        "f, ax = plt.subplots(1, figsize=(11, 7))\n",
        "ax.bar(range(len(surv_by_class)), surv_by_class, label='Выжившие', alpha=0.8, color='g')\n",
        "ax.bar(range(len(no_surv_by_class)), no_surv_by_class, bottom=surv_by_class, label='Умершие', alpha=0.8, color='r')\n",
        "plt.sca(ax)\n",
        "plt.xticks([0, 1, 2], classes)\n",
        "ax.set_ylabel(\"Количество людей\")\n",
        "ax.set_xlabel(\"Класс\")\n",
        "ax.set_title(\"Процент выживших по классу\",fontsize=14)\n",
        "plt.legend(loc='upper left')\n",
        "\n",
        "i = 0\n",
        "for p in ax.patches:\n",
        "    width = p.get_width()\n",
        "    height = p.get_height()\n",
        "    x, y = p.get_xy()\n",
        "    plt.text(x + width / 2, y + height * 1.01, str(round(all_per[i], 1)) + \"%\", ha=\"center\", weight='bold')\n",
        "    i += 1"
      ]
    },
    {
      "cell_type": "markdown",
      "metadata": {
        "id": "weUSsJVoxyHG"
      },
      "source": [
        "Из текущей диаграммы видно, что процент выживших людей от всех людей почти в три и в два раза выше в первом и во втором классе, нежели в третьем"
      ]
    },
    {
      "cell_type": "markdown",
      "source": [
        "Теперь рассмотрим распределение выживших относительно стоимости билета."
      ],
      "metadata": {
        "id": "di4VDu5wyDAR"
      }
    },
    {
      "cell_type": "code",
      "source": [
        "train.groupby('Survived')['Fare'].plot(kind='kde')\n",
        "plt.legend(['Погибли', 'Выжили'])\n",
        "plt.show()"
      ],
      "metadata": {
        "colab": {
          "base_uri": "https://localhost:8080/",
          "height": 604
        },
        "id": "CXwbpNw7yCse",
        "outputId": "0214e7ea-23cc-48f2-95f1-aefb53d54873"
      },
      "execution_count": null,
      "outputs": [
        {
          "output_type": "display_data",
          "data": {
            "text/plain": [
              "<Figure size 1100x700 with 1 Axes>"
            ],
            "image/png": "[encoded data removed]"
          },
          "metadata": {}
        }
      ]
    },
    {
      "cell_type": "markdown",
      "source": [
        "Можно заметить, что чем выше стоимоть билета, тем больше людей выжило."
      ],
      "metadata": {
        "id": "xtJj1gn6AIp_"
      }
    },
    {
      "cell_type": "markdown",
      "source": [
        "# 2 Выбор модели и метрик"
      ],
      "metadata": {
        "id": "xPTK-BaaAx4y"
      }
    },
    {
      "cell_type": "markdown",
      "source": [
        "### Метрика качества"
      ],
      "metadata": {
        "id": "Qda14Q9eBTVQ"
      }
    },
    {
      "cell_type": "markdown",
      "source": [
        "Перед нами стоит задача классификации, нужно определить выживет ли пассажир или нет, причём метрикой оценки качества является accuracy, что с одной стороны логично, ведь нужно правильно предсказывать выживет ли человек или нет, но с другой стороны, у этой метрики есть существенный недостаток: мы не можем определить по этой метрикке как модель ошибается, она присваивает выжившим метку погибшего или наоборот, считает всех выжившими. Так, например, если есть явный дисабаланс классов, например, 80% человек погибают, то, сделав константную модель (то есть предсказывающую гибель всем), мы уже получим довольно хороший score, поскольку accuracy будет 0.80, но толку от такой модели не будет. В связи с чем, мы решили брать f-score для оценки качества моделей, поскольку так мы требуем от модели обобщения закона \"выживаемости\", плюс ко всему при высокой оценке f-мерой будет высока и accuracy, так как мы получим качественную модель и на новых данных она будет показывать себя хорошо."
      ],
      "metadata": {
        "id": "5wl3Nh1DOcKk"
      }
    },
    {
      "cell_type": "markdown",
      "metadata": {
        "id": "p3WMG20o86nA"
      },
      "source": [
        "Как мы узнали, хорошей практикой в машинном обучении является следующая: деление выборки, которую нам предоставляют для обучения модели на оюучающую и валидационную. Мотивация заключается в следующем: прогоняя много раз модель для подбора параметров (кросс-валидация), мы получаем модель, которая просто запомнила данные из обучающей выборки, она может иметь высокий score на обучающей выборке, но получить экстремально низкий на реальных данных, чтобы отловить такую ситуацию от тренировочной выборки отщипляют кусочек данных, на которых проверяют качество модели (получаем валидный score, так как на такие данные наша модель не видела)."
      ]
    },
    {
      "cell_type": "markdown",
      "source": [
        "### One-hot-encoding"
      ],
      "metadata": {
        "id": "pVOX71s8Stpt"
      }
    },
    {
      "cell_type": "markdown",
      "source": [
        "Теперь сделаем one-hot-encoding, чтобы можно было комфортно работать с категориальными признаками, а также разобьём исходгую обучающую выборку на валидационную и нашу тестовую."
      ],
      "metadata": {
        "id": "mirZ8YuJBgtg"
      }
    },
    {
      "cell_type": "code",
      "source": [
        "cat_col = []\n",
        "num_col = []\n",
        "for column in train.columns:\n",
        "  if train[column].dtype == float or train[column].dtype == int:\n",
        "    num_col.append(column)\n",
        "  else:\n",
        "    cat_col.append(column)\n",
        "train = pd.get_dummies(train, columns = cat_col)\n",
        "scaler = MinMaxScaler()\n",
        "train[num_col] = scaler.fit_transform(train[num_col])\n",
        "X = train.drop(['Survived'], axis=1)\n",
        "y = train['Survived']\n",
        "X_train, X_test, y_train, y_test = train_test_split(X, y, test_size=0.3, random_state=42)"
      ],
      "metadata": {
        "id": "N7rf70cDgvyS"
      },
      "execution_count": 17,
      "outputs": []
    },
    {
      "cell_type": "markdown",
      "source": [
        "## Построение моделей"
      ],
      "metadata": {
        "id": "6eJGIldjDjK0"
      }
    },
    {
      "cell_type": "markdown",
      "source": [
        "### Логистическая регрессия"
      ],
      "metadata": {
        "id": "hMEbsDl4Cb_X"
      }
    },
    {
      "cell_type": "code",
      "source": [
        "simple_reg = LogisticRegression(random_state=0).fit(X_train, y_train)\n",
        "simple_reg_score = simple_reg.score(X_test, y_test)\n",
        "print(simple_reg_score)"
      ],
      "metadata": {
        "colab": {
          "base_uri": "https://localhost:8080/"
        },
        "id": "BGnu0_9BjN-W",
        "outputId": "a2cc86d1-2efa-46e2-cd14-cd7b2c8ec7e0"
      },
      "execution_count": 18,
      "outputs": [
        {
          "output_type": "stream",
          "name": "stdout",
          "text": [
            "0.7947761194029851\n"
          ]
        }
      ]
    },
    {
      "cell_type": "markdown",
      "source": [
        "### Логистическая регрессия с регуляризацией"
      ],
      "metadata": {
        "id": "hpeo3Ne5CmBf"
      }
    },
    {
      "cell_type": "markdown",
      "source": [
        "Возьмем два основных метода регуляризации:\n",
        "\n",
        "1. Ридж-регрессия (L2 регуляризация)\n",
        "2. Лассо-регрессия (L1 регуляризация)\n",
        "\n",
        "Сначала посмотрим на встроенные функции подбора параметров и гиперпараметров для регуляризаций и на score в таком случае."
      ],
      "metadata": {
        "id": "YjcQlRCFWJ1l"
      }
    },
    {
      "cell_type": "code",
      "source": [
        "l1_reg = LogisticRegression(random_state=0, penalty='l2', solver='saga').fit(X_train, y_train)\n",
        "l1_score = l1_reg.score(X_test, y_test)\n",
        "print(l1_score)\n",
        "\n",
        "l2_reg = LogisticRegression(random_state=0, penalty='l1', solver='saga').fit(X_train, y_train)\n",
        "l2_score = l2_reg.score(X_test, y_test)\n",
        "print(l2_score)"
      ],
      "metadata": {
        "id": "LSSifiKuiyqi",
        "colab": {
          "base_uri": "https://localhost:8080/"
        },
        "outputId": "36fa08f6-8170-4767-908e-1ca3cc470f1a"
      },
      "execution_count": 19,
      "outputs": [
        {
          "output_type": "stream",
          "name": "stdout",
          "text": [
            "0.7947761194029851\n",
            "0.7985074626865671\n"
          ]
        }
      ]
    },
    {
      "cell_type": "markdown",
      "source": [
        "А теперь попробуем сами подобрать нужный гиперпараметр с помощью GridSearch_CV и посмотрим на score в данном случае."
      ],
      "metadata": {
        "id": "_vOgZo_hRRql"
      }
    },
    {
      "cell_type": "code",
      "source": [
        "alpha_values = {'alpha': [0.001, 0.01, 0.02, 0.03, 0.04, 0.05, 0.06, 0.08, 1, 2, 2.9, 3, 4, 5, 8, 10, 20, 50, 100]}\n",
        "ridge = GridSearchCV(Ridge(),\n",
        "                     alpha_values,\n",
        "                     scoring = 'neg_mean_squared_error',\n",
        "                     cv = 10)\n",
        "ridge_alpha = ridge.fit(X_train,y_train).best_params_['alpha']\n",
        "print('Лучший alpha: ', ridge_alpha)"
      ],
      "metadata": {
        "colab": {
          "base_uri": "https://localhost:8080/"
        },
        "id": "lzuYrVv3uakh",
        "outputId": "1b9eed15-ff59-4c32-8f4e-1b836f934f02"
      },
      "execution_count": null,
      "outputs": [
        {
          "output_type": "stream",
          "name": "stdout",
          "text": [
            "Лучший alpha:  2.9\n"
          ]
        }
      ]
    },
    {
      "cell_type": "code",
      "source": [
        "alpha_values = {'alpha': [0.001, 0.01, 0.02, 0.03, 0.04, 0.05, 0.06, 0.08, 1, 2, 2.9, 3, 4, 5, 8, 10, 20, 50, 100]}\n",
        "lasso = GridSearchCV(Lasso(),\n",
        "                     alpha_values,\n",
        "                     scoring = 'neg_mean_squared_error',\n",
        "                     cv = 10)\n",
        "lasso_alpha = lasso.fit(X_train,y_train).best_params_['alpha']\n",
        "print('Лучший alpha: ', lasso_alpha)"
      ],
      "metadata": {
        "colab": {
          "base_uri": "https://localhost:8080/"
        },
        "id": "E8IOFrThu2HJ",
        "outputId": "eb0f7b14-1cd4-4727-906a-b293b5bad7c6"
      },
      "execution_count": null,
      "outputs": [
        {
          "output_type": "stream",
          "name": "stdout",
          "text": [
            "Лучший alpha:  0.001\n"
          ]
        }
      ]
    },
    {
      "cell_type": "code",
      "source": [
        "#Ридж-регрессия\n",
        "ridge_reg = Ridge(alpha=2)\n",
        "ridge_reg.fit(X_train, y_train)\n",
        "ridge_predictions = ridge_reg.predict(X_test)\n",
        "ridge_score = ridge_reg.score(X_test, y_test)\n",
        "\n",
        "#Лассо-регрессия\n",
        "lasso_reg = Lasso(alpha=0.001)\n",
        "lasso_reg.fit(X_train, y_train)\n",
        "lasso_predictions = lasso_reg.predict(X_test)\n",
        "lasso_score = lasso_reg.score(X_test, y_test)"
      ],
      "metadata": {
        "id": "2ZvayY0rCq6y"
      },
      "execution_count": null,
      "outputs": []
    },
    {
      "cell_type": "code",
      "source": [
        "print(ridge_score)\n",
        "print(lasso_score)\n"
      ],
      "metadata": {
        "colab": {
          "base_uri": "https://localhost:8080/"
        },
        "id": "TCJoD7C6oHKo",
        "outputId": "6f93e376-9c08-4ec7-fa21-2dbb0fc64baf"
      },
      "execution_count": null,
      "outputs": [
        {
          "output_type": "stream",
          "name": "stdout",
          "text": [
            "0.4360995251782731\n",
            "0.4371193809563616\n"
          ]
        }
      ]
    },
    {
      "cell_type": "markdown",
      "source": [
        "Как мы видим, подбор гиперпараметров очень сложная и тонкая наука, лучше не брать их из головы, а узнавать у коллег или на личном опыте понимать какой гиперпараметр альфа можно использовать."
      ],
      "metadata": {
        "id": "zJkJwbWvYUdz"
      }
    },
    {
      "cell_type": "markdown",
      "source": [
        "### Дерево решений"
      ],
      "metadata": {
        "id": "x1B0QyocCtfn"
      }
    },
    {
      "cell_type": "code",
      "source": [
        "tree = DecisionTreeClassifier(max_depth=5, random_state=42)"
      ],
      "metadata": {
        "id": "BQNwjow2Czfx"
      },
      "execution_count": 20,
      "outputs": []
    },
    {
      "cell_type": "code",
      "source": [
        "tree_params = {'max_depth': range(1, 6), 'max_features': range(4, 19)}\n",
        "tree_grid = GridSearchCV(tree, tree_params, cv=5, n_jobs=-1, verbose=True)\n",
        "tree_grid.fit(X_train, y_train)"
      ],
      "metadata": {
        "colab": {
          "base_uri": "https://localhost:8080/",
          "height": 135
        },
        "id": "eLOU-RoXbUjC",
        "outputId": "99329299-23dd-4d19-d0c5-743e2abc6350"
      },
      "execution_count": 21,
      "outputs": [
        {
          "output_type": "stream",
          "name": "stdout",
          "text": [
            "Fitting 5 folds for each of 75 candidates, totalling 375 fits\n"
          ]
        },
        {
          "output_type": "execute_result",
          "data": {
            "text/plain": [
              "GridSearchCV(cv=5,\n",
              "             estimator=DecisionTreeClassifier(max_depth=5, random_state=42),\n",
              "             n_jobs=-1,\n",
              "             param_grid={'max_depth': range(1, 6),\n",
              "                         'max_features': range(4, 19)},\n",
              "             verbose=True)"
            ],
            "text/html": [
              "<style>#sk-container-id-1 {color: black;background-color: white;}#sk-container-id-1 pre{padding: 0;}#sk-container-id-1 div.sk-toggleable {background-color: white;}#sk-container-id-1 label.sk-toggleable__label {cursor: pointer;display: block;width: 100%;margin-bottom: 0;padding: 0.3em;box-sizing: border-box;text-align: center;}#sk-container-id-1 label.sk-toggleable__label-arrow:before {content: \"▸\";float: left;margin-right: 0.25em;color: #696969;}#sk-container-id-1 label.sk-toggleable__label-arrow:hover:before {color: black;}#sk-container-id-1 div.sk-estimator:hover label.sk-toggleable__label-arrow:before {color: black;}#sk-container-id-1 div.sk-toggleable__content {max-height: 0;max-width: 0;overflow: hidden;text-align: left;background-color: #f0f8ff;}#sk-container-id-1 div.sk-toggleable__content pre {margin: 0.2em;color: black;border-radius: 0.25em;background-color: #f0f8ff;}#sk-container-id-1 input.sk-toggleable__control:checked~div.sk-toggleable__content {max-height: 200px;max-width: 100%;overflow: auto;}#sk-container-id-1 input.sk-toggleable__control:checked~label.sk-toggleable__label-arrow:before {content: \"▾\";}#sk-container-id-1 div.sk-estimator input.sk-toggleable__control:checked~label.sk-toggleable__label {background-color: #d4ebff;}#sk-container-id-1 div.sk-label input.sk-toggleable__control:checked~label.sk-toggleable__label {background-color: #d4ebff;}#sk-container-id-1 input.sk-hidden--visually {border: 0;clip: rect(1px 1px 1px 1px);clip: rect(1px, 1px, 1px, 1px);height: 1px;margin: -1px;overflow: hidden;padding: 0;position: absolute;width: 1px;}#sk-container-id-1 div.sk-estimator {font-family: monospace;background-color: #f0f8ff;border: 1px dotted black;border-radius: 0.25em;box-sizing: border-box;margin-bottom: 0.5em;}#sk-container-id-1 div.sk-estimator:hover {background-color: #d4ebff;}#sk-container-id-1 div.sk-parallel-item::after {content: \"\";width: 100%;border-bottom: 1px solid gray;flex-grow: 1;}#sk-container-id-1 div.sk-label:hover label.sk-toggleable__label {background-color: #d4ebff;}#sk-container-id-1 div.sk-serial::before {content: \"\";position: absolute;border-left: 1px solid gray;box-sizing: border-box;top: 0;bottom: 0;left: 50%;z-index: 0;}#sk-container-id-1 div.sk-serial {display: flex;flex-direction: column;align-items: center;background-color: white;padding-right: 0.2em;padding-left: 0.2em;position: relative;}#sk-container-id-1 div.sk-item {position: relative;z-index: 1;}#sk-container-id-1 div.sk-parallel {display: flex;align-items: stretch;justify-content: center;background-color: white;position: relative;}#sk-container-id-1 div.sk-item::before, #sk-container-id-1 div.sk-parallel-item::before {content: \"\";position: absolute;border-left: 1px solid gray;box-sizing: border-box;top: 0;bottom: 0;left: 50%;z-index: -1;}#sk-container-id-1 div.sk-parallel-item {display: flex;flex-direction: column;z-index: 1;position: relative;background-color: white;}#sk-container-id-1 div.sk-parallel-item:first-child::after {align-self: flex-end;width: 50%;}#sk-container-id-1 div.sk-parallel-item:last-child::after {align-self: flex-start;width: 50%;}#sk-container-id-1 div.sk-parallel-item:only-child::after {width: 0;}#sk-container-id-1 div.sk-dashed-wrapped {border: 1px dashed gray;margin: 0 0.4em 0.5em 0.4em;box-sizing: border-box;padding-bottom: 0.4em;background-color: white;}#sk-container-id-1 div.sk-label label {font-family: monospace;font-weight: bold;display: inline-block;line-height: 1.2em;}#sk-container-id-1 div.sk-label-container {text-align: center;}#sk-container-id-1 div.sk-container {/* jupyter's `normalize.less` sets `[hidden] { display: none; }` but bootstrap.min.css set `[hidden] { display: none !important; }` so we also need the `!important` here to be able to override the default hidden behavior on the sphinx rendered scikit-learn.org. See: https://github.com/scikit-learn/scikit-learn/issues/21755 */display: inline-block !important;position: relative;}#sk-container-id-1 div.sk-text-repr-fallback {display: none;}</style><div id=\"sk-container-id-1\" class=\"sk-top-container\"><div class=\"sk-text-repr-fallback\"><pre>GridSearchCV(cv=5,\n",
              "             estimator=DecisionTreeClassifier(max_depth=5, random_state=42),\n",
              "             n_jobs=-1,\n",
              "             param_grid={&#x27;max_depth&#x27;: range(1, 6),\n",
              "                         &#x27;max_features&#x27;: range(4, 19)},\n",
              "             verbose=True)</pre><b>In a Jupyter environment, please rerun this cell to show the HTML representation or trust the notebook. <br />On GitHub, the HTML representation is unable to render, please try loading this page with nbviewer.org.</b></div><div class=\"sk-container\" hidden><div class=\"sk-item sk-dashed-wrapped\"><div class=\"sk-label-container\"><div class=\"sk-label sk-toggleable\"><input class=\"sk-toggleable__control sk-hidden--visually\" id=\"sk-estimator-id-1\" type=\"checkbox\" ><label for=\"sk-estimator-id-1\" class=\"sk-toggleable__label sk-toggleable__label-arrow\">GridSearchCV</label><div class=\"sk-toggleable__content\"><pre>GridSearchCV(cv=5,\n",
              "             estimator=DecisionTreeClassifier(max_depth=5, random_state=42),\n",
              "             n_jobs=-1,\n",
              "             param_grid={&#x27;max_depth&#x27;: range(1, 6),\n",
              "                         &#x27;max_features&#x27;: range(4, 19)},\n",
              "             verbose=True)</pre></div></div></div><div class=\"sk-parallel\"><div class=\"sk-parallel-item\"><div class=\"sk-item\"><div class=\"sk-label-container\"><div class=\"sk-label sk-toggleable\"><input class=\"sk-toggleable__control sk-hidden--visually\" id=\"sk-estimator-id-2\" type=\"checkbox\" ><label for=\"sk-estimator-id-2\" class=\"sk-toggleable__label sk-toggleable__label-arrow\">estimator: DecisionTreeClassifier</label><div class=\"sk-toggleable__content\"><pre>DecisionTreeClassifier(max_depth=5, random_state=42)</pre></div></div></div><div class=\"sk-serial\"><div class=\"sk-item\"><div class=\"sk-estimator sk-toggleable\"><input class=\"sk-toggleable__control sk-hidden--visually\" id=\"sk-estimator-id-3\" type=\"checkbox\" ><label for=\"sk-estimator-id-3\" class=\"sk-toggleable__label sk-toggleable__label-arrow\">DecisionTreeClassifier</label><div class=\"sk-toggleable__content\"><pre>DecisionTreeClassifier(max_depth=5, random_state=42)</pre></div></div></div></div></div></div></div></div></div></div>"
            ]
          },
          "metadata": {},
          "execution_count": 21
        }
      ]
    },
    {
      "cell_type": "code",
      "source": [
        "final_tree = tree_grid.best_estimator_\n",
        "tree_score = final_tree.score(X_test, y_test)\n",
        "print(tree_score)"
      ],
      "metadata": {
        "colab": {
          "base_uri": "https://localhost:8080/"
        },
        "id": "zKKKyq4Vre4U",
        "outputId": "9a1b3394-b1af-455e-ff48-72e922cc43da"
      },
      "execution_count": 22,
      "outputs": [
        {
          "output_type": "stream",
          "name": "stdout",
          "text": [
            "0.8097014925373134\n"
          ]
        }
      ]
    },
    {
      "cell_type": "markdown",
      "source": [
        "Попробуем изменить границы глубины, вдруг score вырастет."
      ],
      "metadata": {
        "id": "EneOgT8hbxtA"
      }
    },
    {
      "cell_type": "code",
      "source": [
        "tree_depth = DecisionTreeClassifier(max_depth=20, random_state=42)\n",
        "tree_depth_params = {'max_depth': range(7, 15), 'max_features': range(4, 19)}\n",
        "tree_depth_grid = GridSearchCV(tree_depth, tree_depth_params, cv=5, n_jobs=-1, verbose=True)\n",
        "tree_depth_grid.fit(X_train, y_train)"
      ],
      "metadata": {
        "colab": {
          "base_uri": "https://localhost:8080/",
          "height": 135
        },
        "id": "yshhVK3xb_5l",
        "outputId": "f105d4de-a372-4d87-82bb-b87fd21ff08d"
      },
      "execution_count": 33,
      "outputs": [
        {
          "output_type": "stream",
          "name": "stdout",
          "text": [
            "Fitting 5 folds for each of 120 candidates, totalling 600 fits\n"
          ]
        },
        {
          "output_type": "execute_result",
          "data": {
            "text/plain": [
              "GridSearchCV(cv=5,\n",
              "             estimator=DecisionTreeClassifier(max_depth=20, random_state=42),\n",
              "             n_jobs=-1,\n",
              "             param_grid={'max_depth': range(7, 15),\n",
              "                         'max_features': range(4, 19)},\n",
              "             verbose=True)"
            ],
            "text/html": [
              "<style>#sk-container-id-3 {color: black;background-color: white;}#sk-container-id-3 pre{padding: 0;}#sk-container-id-3 div.sk-toggleable {background-color: white;}#sk-container-id-3 label.sk-toggleable__label {cursor: pointer;display: block;width: 100%;margin-bottom: 0;padding: 0.3em;box-sizing: border-box;text-align: center;}#sk-container-id-3 label.sk-toggleable__label-arrow:before {content: \"▸\";float: left;margin-right: 0.25em;color: #696969;}#sk-container-id-3 label.sk-toggleable__label-arrow:hover:before {color: black;}#sk-container-id-3 div.sk-estimator:hover label.sk-toggleable__label-arrow:before {color: black;}#sk-container-id-3 div.sk-toggleable__content {max-height: 0;max-width: 0;overflow: hidden;text-align: left;background-color: #f0f8ff;}#sk-container-id-3 div.sk-toggleable__content pre {margin: 0.2em;color: black;border-radius: 0.25em;background-color: #f0f8ff;}#sk-container-id-3 input.sk-toggleable__control:checked~div.sk-toggleable__content {max-height: 200px;max-width: 100%;overflow: auto;}#sk-container-id-3 input.sk-toggleable__control:checked~label.sk-toggleable__label-arrow:before {content: \"▾\";}#sk-container-id-3 div.sk-estimator input.sk-toggleable__control:checked~label.sk-toggleable__label {background-color: #d4ebff;}#sk-container-id-3 div.sk-label input.sk-toggleable__control:checked~label.sk-toggleable__label {background-color: #d4ebff;}#sk-container-id-3 input.sk-hidden--visually {border: 0;clip: rect(1px 1px 1px 1px);clip: rect(1px, 1px, 1px, 1px);height: 1px;margin: -1px;overflow: hidden;padding: 0;position: absolute;width: 1px;}#sk-container-id-3 div.sk-estimator {font-family: monospace;background-color: #f0f8ff;border: 1px dotted black;border-radius: 0.25em;box-sizing: border-box;margin-bottom: 0.5em;}#sk-container-id-3 div.sk-estimator:hover {background-color: #d4ebff;}#sk-container-id-3 div.sk-parallel-item::after {content: \"\";width: 100%;border-bottom: 1px solid gray;flex-grow: 1;}#sk-container-id-3 div.sk-label:hover label.sk-toggleable__label {background-color: #d4ebff;}#sk-container-id-3 div.sk-serial::before {content: \"\";position: absolute;border-left: 1px solid gray;box-sizing: border-box;top: 0;bottom: 0;left: 50%;z-index: 0;}#sk-container-id-3 div.sk-serial {display: flex;flex-direction: column;align-items: center;background-color: white;padding-right: 0.2em;padding-left: 0.2em;position: relative;}#sk-container-id-3 div.sk-item {position: relative;z-index: 1;}#sk-container-id-3 div.sk-parallel {display: flex;align-items: stretch;justify-content: center;background-color: white;position: relative;}#sk-container-id-3 div.sk-item::before, #sk-container-id-3 div.sk-parallel-item::before {content: \"\";position: absolute;border-left: 1px solid gray;box-sizing: border-box;top: 0;bottom: 0;left: 50%;z-index: -1;}#sk-container-id-3 div.sk-parallel-item {display: flex;flex-direction: column;z-index: 1;position: relative;background-color: white;}#sk-container-id-3 div.sk-parallel-item:first-child::after {align-self: flex-end;width: 50%;}#sk-container-id-3 div.sk-parallel-item:last-child::after {align-self: flex-start;width: 50%;}#sk-container-id-3 div.sk-parallel-item:only-child::after {width: 0;}#sk-container-id-3 div.sk-dashed-wrapped {border: 1px dashed gray;margin: 0 0.4em 0.5em 0.4em;box-sizing: border-box;padding-bottom: 0.4em;background-color: white;}#sk-container-id-3 div.sk-label label {font-family: monospace;font-weight: bold;display: inline-block;line-height: 1.2em;}#sk-container-id-3 div.sk-label-container {text-align: center;}#sk-container-id-3 div.sk-container {/* jupyter's `normalize.less` sets `[hidden] { display: none; }` but bootstrap.min.css set `[hidden] { display: none !important; }` so we also need the `!important` here to be able to override the default hidden behavior on the sphinx rendered scikit-learn.org. See: https://github.com/scikit-learn/scikit-learn/issues/21755 */display: inline-block !important;position: relative;}#sk-container-id-3 div.sk-text-repr-fallback {display: none;}</style><div id=\"sk-container-id-3\" class=\"sk-top-container\"><div class=\"sk-text-repr-fallback\"><pre>GridSearchCV(cv=5,\n",
              "             estimator=DecisionTreeClassifier(max_depth=20, random_state=42),\n",
              "             n_jobs=-1,\n",
              "             param_grid={&#x27;max_depth&#x27;: range(7, 15),\n",
              "                         &#x27;max_features&#x27;: range(4, 19)},\n",
              "             verbose=True)</pre><b>In a Jupyter environment, please rerun this cell to show the HTML representation or trust the notebook. <br />On GitHub, the HTML representation is unable to render, please try loading this page with nbviewer.org.</b></div><div class=\"sk-container\" hidden><div class=\"sk-item sk-dashed-wrapped\"><div class=\"sk-label-container\"><div class=\"sk-label sk-toggleable\"><input class=\"sk-toggleable__control sk-hidden--visually\" id=\"sk-estimator-id-7\" type=\"checkbox\" ><label for=\"sk-estimator-id-7\" class=\"sk-toggleable__label sk-toggleable__label-arrow\">GridSearchCV</label><div class=\"sk-toggleable__content\"><pre>GridSearchCV(cv=5,\n",
              "             estimator=DecisionTreeClassifier(max_depth=20, random_state=42),\n",
              "             n_jobs=-1,\n",
              "             param_grid={&#x27;max_depth&#x27;: range(7, 15),\n",
              "                         &#x27;max_features&#x27;: range(4, 19)},\n",
              "             verbose=True)</pre></div></div></div><div class=\"sk-parallel\"><div class=\"sk-parallel-item\"><div class=\"sk-item\"><div class=\"sk-label-container\"><div class=\"sk-label sk-toggleable\"><input class=\"sk-toggleable__control sk-hidden--visually\" id=\"sk-estimator-id-8\" type=\"checkbox\" ><label for=\"sk-estimator-id-8\" class=\"sk-toggleable__label sk-toggleable__label-arrow\">estimator: DecisionTreeClassifier</label><div class=\"sk-toggleable__content\"><pre>DecisionTreeClassifier(max_depth=20, random_state=42)</pre></div></div></div><div class=\"sk-serial\"><div class=\"sk-item\"><div class=\"sk-estimator sk-toggleable\"><input class=\"sk-toggleable__control sk-hidden--visually\" id=\"sk-estimator-id-9\" type=\"checkbox\" ><label for=\"sk-estimator-id-9\" class=\"sk-toggleable__label sk-toggleable__label-arrow\">DecisionTreeClassifier</label><div class=\"sk-toggleable__content\"><pre>DecisionTreeClassifier(max_depth=20, random_state=42)</pre></div></div></div></div></div></div></div></div></div></div>"
            ]
          },
          "metadata": {},
          "execution_count": 33
        }
      ]
    },
    {
      "cell_type": "code",
      "source": [
        "final_depth_tree = tree_depth_grid.best_estimator_\n",
        "tree_depth_score = final_depth_tree.score(X_test, y_test)\n",
        "print(tree_depth_score)"
      ],
      "metadata": {
        "colab": {
          "base_uri": "https://localhost:8080/"
        },
        "id": "EdyC1EUjciNc",
        "outputId": "3484658f-ad8b-4150-d6c7-3def33abf814"
      },
      "execution_count": 34,
      "outputs": [
        {
          "output_type": "stream",
          "name": "stdout",
          "text": [
            "0.7798507462686567\n"
          ]
        }
      ]
    },
    {
      "cell_type": "markdown",
      "source": [
        "Нет, напротив, score стал меньше, это может говорить о том, что при увеличении глубины дерева модель охотнее переобучается."
      ],
      "metadata": {
        "id": "9o_TPXYbdIpE"
      }
    },
    {
      "cell_type": "markdown",
      "source": [
        "### Градиентный бустинг"
      ],
      "metadata": {
        "id": "WdOEJ09nCzxO"
      }
    },
    {
      "cell_type": "markdown",
      "source": [
        "Мы использовали библиотеку catboost, потому что она является одной из самых лучших в построении моделей градиентного бустинга + умеет работать с категориальными фичами (правда сейчас мы всё равно используем датасеты с one-hot-encoding)."
      ],
      "metadata": {
        "id": "XxlktG3KkaC3"
      }
    },
    {
      "cell_type": "code",
      "source": [
        "params_cat = [{\"depth\": range(6,11)},\n",
        "             {\"learning_rate\": [1, 0.1, 0.01, 0.001]},\n",
        "             {\"l2_leaf_reg\": [0.1, 1, 10, 100]}\n",
        "             ]\n",
        "best_params = dict()\n",
        "for dictionary in tqdm(params_cat):\n",
        "    cat = CatBoostClassifier(silent=True)\n",
        "    grid_cat = GridSearchCV(cat, dictionary, scoring='f1', cv=5, n_jobs=-1)\n",
        "    grid_cat.fit(X_train, y_train)\n",
        "    key = list(grid_cat.best_params_.keys())[0]\n",
        "    best_params[key] = grid_cat.best_params_.get(key)"
      ],
      "metadata": {
        "colab": {
          "base_uri": "https://localhost:8080/"
        },
        "id": "QvdaeRojxKxT",
        "outputId": "cc0df1ca-fbd4-4490-ed84-53db805ae303"
      },
      "execution_count": 23,
      "outputs": [
        {
          "output_type": "stream",
          "name": "stderr",
          "text": [
            "100%|██████████| 3/3 [02:49<00:00, 56.37s/it]\n"
          ]
        }
      ]
    },
    {
      "cell_type": "code",
      "source": [
        "best_params"
      ],
      "metadata": {
        "id": "VFfE0_QDxTZ2",
        "colab": {
          "base_uri": "https://localhost:8080/"
        },
        "outputId": "31275399-a3a6-4e72-ef55-ce1d75d1acab"
      },
      "execution_count": 24,
      "outputs": [
        {
          "output_type": "execute_result",
          "data": {
            "text/plain": [
              "{'depth': 6, 'learning_rate': 0.001, 'l2_leaf_reg': 100}"
            ]
          },
          "metadata": {},
          "execution_count": 24
        }
      ]
    },
    {
      "cell_type": "code",
      "source": [
        "cat = CatBoostClassifier(silent=True, **best_params)\n",
        "cat.fit(X_train, y_train)"
      ],
      "metadata": {
        "id": "DhuHFzLFKJJe",
        "colab": {
          "base_uri": "https://localhost:8080/"
        },
        "outputId": "c47f45f9-73c7-4259-8ff9-817d6b8f3e26"
      },
      "execution_count": 25,
      "outputs": [
        {
          "output_type": "execute_result",
          "data": {
            "text/plain": [
              "<catboost.core.CatBoostClassifier at 0x7d331dd26620>"
            ]
          },
          "metadata": {},
          "execution_count": 25
        }
      ]
    },
    {
      "cell_type": "code",
      "source": [
        "cat_score = cat.score(X_test, y_test)\n",
        "print(cat_score)"
      ],
      "metadata": {
        "id": "pqF-cxTfxiJi",
        "colab": {
          "base_uri": "https://localhost:8080/"
        },
        "outputId": "306a4043-5c35-4a95-c57d-8656d0b95b99"
      },
      "execution_count": 26,
      "outputs": [
        {
          "output_type": "stream",
          "name": "stdout",
          "text": [
            "0.8059701492537313\n"
          ]
        }
      ]
    },
    {
      "cell_type": "markdown",
      "source": [
        "### Случайный лес"
      ],
      "metadata": {
        "id": "9Ed7HOAiC27T"
      }
    },
    {
      "cell_type": "code",
      "source": [
        "rf_model = RandomForestClassifier(random_state=42, class_weight='balanced')"
      ],
      "metadata": {
        "id": "jOQwYibiC2vT"
      },
      "execution_count": 27,
      "outputs": []
    },
    {
      "cell_type": "code",
      "source": [
        "rf_param = {\"n_estimators\": [100, 200, 500],\n",
        "           \"max_depth\": range(1, 11, 2),\n",
        "           \"min_samples_leaf\": [10 ,30,50, 100],\n",
        "           \"max_features\": [\"sqrt\", \"log2\"],\n",
        "           \"random_state\": [0]}"
      ],
      "metadata": {
        "id": "j2GpdSLDY0O9"
      },
      "execution_count": 28,
      "outputs": []
    },
    {
      "cell_type": "code",
      "source": [
        "grid_rf = GridSearchCV(rf_model, rf_param, scoring='f1', cv=5, n_jobs=-1)\n",
        "grid_rf.fit(X_train, y_train)"
      ],
      "metadata": {
        "id": "8XN7-X_uZEXS",
        "colab": {
          "base_uri": "https://localhost:8080/",
          "height": 118
        },
        "outputId": "ff3f4699-5f4d-44f5-845b-16d9f7d1ce0b"
      },
      "execution_count": 29,
      "outputs": [
        {
          "output_type": "execute_result",
          "data": {
            "text/plain": [
              "GridSearchCV(cv=5,\n",
              "             estimator=RandomForestClassifier(class_weight='balanced',\n",
              "                                              random_state=42),\n",
              "             n_jobs=-1,\n",
              "             param_grid={'max_depth': range(1, 11, 2),\n",
              "                         'max_features': ['sqrt', 'log2'],\n",
              "                         'min_samples_leaf': [10, 30, 50, 100],\n",
              "                         'n_estimators': [100, 200, 500], 'random_state': [0]},\n",
              "             scoring='f1')"
            ],
            "text/html": [
              "<style>#sk-container-id-2 {color: black;background-color: white;}#sk-container-id-2 pre{padding: 0;}#sk-container-id-2 div.sk-toggleable {background-color: white;}#sk-container-id-2 label.sk-toggleable__label {cursor: pointer;display: block;width: 100%;margin-bottom: 0;padding: 0.3em;box-sizing: border-box;text-align: center;}#sk-container-id-2 label.sk-toggleable__label-arrow:before {content: \"▸\";float: left;margin-right: 0.25em;color: #696969;}#sk-container-id-2 label.sk-toggleable__label-arrow:hover:before {color: black;}#sk-container-id-2 div.sk-estimator:hover label.sk-toggleable__label-arrow:before {color: black;}#sk-container-id-2 div.sk-toggleable__content {max-height: 0;max-width: 0;overflow: hidden;text-align: left;background-color: #f0f8ff;}#sk-container-id-2 div.sk-toggleable__content pre {margin: 0.2em;color: black;border-radius: 0.25em;background-color: #f0f8ff;}#sk-container-id-2 input.sk-toggleable__control:checked~div.sk-toggleable__content {max-height: 200px;max-width: 100%;overflow: auto;}#sk-container-id-2 input.sk-toggleable__control:checked~label.sk-toggleable__label-arrow:before {content: \"▾\";}#sk-container-id-2 div.sk-estimator input.sk-toggleable__control:checked~label.sk-toggleable__label {background-color: #d4ebff;}#sk-container-id-2 div.sk-label input.sk-toggleable__control:checked~label.sk-toggleable__label {background-color: #d4ebff;}#sk-container-id-2 input.sk-hidden--visually {border: 0;clip: rect(1px 1px 1px 1px);clip: rect(1px, 1px, 1px, 1px);height: 1px;margin: -1px;overflow: hidden;padding: 0;position: absolute;width: 1px;}#sk-container-id-2 div.sk-estimator {font-family: monospace;background-color: #f0f8ff;border: 1px dotted black;border-radius: 0.25em;box-sizing: border-box;margin-bottom: 0.5em;}#sk-container-id-2 div.sk-estimator:hover {background-color: #d4ebff;}#sk-container-id-2 div.sk-parallel-item::after {content: \"\";width: 100%;border-bottom: 1px solid gray;flex-grow: 1;}#sk-container-id-2 div.sk-label:hover label.sk-toggleable__label {background-color: #d4ebff;}#sk-container-id-2 div.sk-serial::before {content: \"\";position: absolute;border-left: 1px solid gray;box-sizing: border-box;top: 0;bottom: 0;left: 50%;z-index: 0;}#sk-container-id-2 div.sk-serial {display: flex;flex-direction: column;align-items: center;background-color: white;padding-right: 0.2em;padding-left: 0.2em;position: relative;}#sk-container-id-2 div.sk-item {position: relative;z-index: 1;}#sk-container-id-2 div.sk-parallel {display: flex;align-items: stretch;justify-content: center;background-color: white;position: relative;}#sk-container-id-2 div.sk-item::before, #sk-container-id-2 div.sk-parallel-item::before {content: \"\";position: absolute;border-left: 1px solid gray;box-sizing: border-box;top: 0;bottom: 0;left: 50%;z-index: -1;}#sk-container-id-2 div.sk-parallel-item {display: flex;flex-direction: column;z-index: 1;position: relative;background-color: white;}#sk-container-id-2 div.sk-parallel-item:first-child::after {align-self: flex-end;width: 50%;}#sk-container-id-2 div.sk-parallel-item:last-child::after {align-self: flex-start;width: 50%;}#sk-container-id-2 div.sk-parallel-item:only-child::after {width: 0;}#sk-container-id-2 div.sk-dashed-wrapped {border: 1px dashed gray;margin: 0 0.4em 0.5em 0.4em;box-sizing: border-box;padding-bottom: 0.4em;background-color: white;}#sk-container-id-2 div.sk-label label {font-family: monospace;font-weight: bold;display: inline-block;line-height: 1.2em;}#sk-container-id-2 div.sk-label-container {text-align: center;}#sk-container-id-2 div.sk-container {/* jupyter's `normalize.less` sets `[hidden] { display: none; }` but bootstrap.min.css set `[hidden] { display: none !important; }` so we also need the `!important` here to be able to override the default hidden behavior on the sphinx rendered scikit-learn.org. See: https://github.com/scikit-learn/scikit-learn/issues/21755 */display: inline-block !important;position: relative;}#sk-container-id-2 div.sk-text-repr-fallback {display: none;}</style><div id=\"sk-container-id-2\" class=\"sk-top-container\"><div class=\"sk-text-repr-fallback\"><pre>GridSearchCV(cv=5,\n",
              "             estimator=RandomForestClassifier(class_weight=&#x27;balanced&#x27;,\n",
              "                                              random_state=42),\n",
              "             n_jobs=-1,\n",
              "             param_grid={&#x27;max_depth&#x27;: range(1, 11, 2),\n",
              "                         &#x27;max_features&#x27;: [&#x27;sqrt&#x27;, &#x27;log2&#x27;],\n",
              "                         &#x27;min_samples_leaf&#x27;: [10, 30, 50, 100],\n",
              "                         &#x27;n_estimators&#x27;: [100, 200, 500], &#x27;random_state&#x27;: [0]},\n",
              "             scoring=&#x27;f1&#x27;)</pre><b>In a Jupyter environment, please rerun this cell to show the HTML representation or trust the notebook. <br />On GitHub, the HTML representation is unable to render, please try loading this page with nbviewer.org.</b></div><div class=\"sk-container\" hidden><div class=\"sk-item sk-dashed-wrapped\"><div class=\"sk-label-container\"><div class=\"sk-label sk-toggleable\"><input class=\"sk-toggleable__control sk-hidden--visually\" id=\"sk-estimator-id-4\" type=\"checkbox\" ><label for=\"sk-estimator-id-4\" class=\"sk-toggleable__label sk-toggleable__label-arrow\">GridSearchCV</label><div class=\"sk-toggleable__content\"><pre>GridSearchCV(cv=5,\n",
              "             estimator=RandomForestClassifier(class_weight=&#x27;balanced&#x27;,\n",
              "                                              random_state=42),\n",
              "             n_jobs=-1,\n",
              "             param_grid={&#x27;max_depth&#x27;: range(1, 11, 2),\n",
              "                         &#x27;max_features&#x27;: [&#x27;sqrt&#x27;, &#x27;log2&#x27;],\n",
              "                         &#x27;min_samples_leaf&#x27;: [10, 30, 50, 100],\n",
              "                         &#x27;n_estimators&#x27;: [100, 200, 500], &#x27;random_state&#x27;: [0]},\n",
              "             scoring=&#x27;f1&#x27;)</pre></div></div></div><div class=\"sk-parallel\"><div class=\"sk-parallel-item\"><div class=\"sk-item\"><div class=\"sk-label-container\"><div class=\"sk-label sk-toggleable\"><input class=\"sk-toggleable__control sk-hidden--visually\" id=\"sk-estimator-id-5\" type=\"checkbox\" ><label for=\"sk-estimator-id-5\" class=\"sk-toggleable__label sk-toggleable__label-arrow\">estimator: RandomForestClassifier</label><div class=\"sk-toggleable__content\"><pre>RandomForestClassifier(class_weight=&#x27;balanced&#x27;, random_state=42)</pre></div></div></div><div class=\"sk-serial\"><div class=\"sk-item\"><div class=\"sk-estimator sk-toggleable\"><input class=\"sk-toggleable__control sk-hidden--visually\" id=\"sk-estimator-id-6\" type=\"checkbox\" ><label for=\"sk-estimator-id-6\" class=\"sk-toggleable__label sk-toggleable__label-arrow\">RandomForestClassifier</label><div class=\"sk-toggleable__content\"><pre>RandomForestClassifier(class_weight=&#x27;balanced&#x27;, random_state=42)</pre></div></div></div></div></div></div></div></div></div></div>"
            ]
          },
          "metadata": {},
          "execution_count": 29
        }
      ]
    },
    {
      "cell_type": "code",
      "source": [
        "grid_rf.best_params_\n",
        "'''{'max_depth': 9,\n",
        " 'max_features': 'sqrt',\n",
        " 'min_samples_leaf': 10,\n",
        " 'n_estimators': 100,\n",
        " 'random_state': 0}'''"
      ],
      "metadata": {
        "id": "k5j2K9S9ZJgY",
        "colab": {
          "base_uri": "https://localhost:8080/",
          "height": 35
        },
        "outputId": "c5291562-2e07-441f-cec9-568cd3716be2"
      },
      "execution_count": 30,
      "outputs": [
        {
          "output_type": "execute_result",
          "data": {
            "text/plain": [
              "\"{'max_depth': 9,\\n 'max_features': 'sqrt',\\n 'min_samples_leaf': 10,\\n 'n_estimators': 100,\\n 'random_state': 0}\""
            ],
            "application/vnd.google.colaboratory.intrinsic+json": {
              "type": "string"
            }
          },
          "metadata": {},
          "execution_count": 30
        }
      ]
    },
    {
      "cell_type": "code",
      "source": [
        "best_rf = grid_rf.best_estimator_\n",
        "rf_score = best_rf.score(X_test, y_test)"
      ],
      "metadata": {
        "id": "qGiH6nZMlY-h"
      },
      "execution_count": 31,
      "outputs": []
    },
    {
      "cell_type": "code",
      "source": [
        "print(rf_score)"
      ],
      "metadata": {
        "id": "l6Tnj--iZVOp",
        "colab": {
          "base_uri": "https://localhost:8080/"
        },
        "outputId": "e562ab1d-093f-4b98-fda6-e454c2ba1ece"
      },
      "execution_count": null,
      "outputs": [
        {
          "output_type": "stream",
          "name": "stdout",
          "text": [
            "0.8059701492537313\n"
          ]
        }
      ]
    },
    {
      "cell_type": "markdown",
      "source": [
        "# 3.Сравнение ошибок на разных моделях"
      ],
      "metadata": {
        "id": "yvzQptXkDJmW"
      }
    },
    {
      "cell_type": "code",
      "source": [
        "scores = [simple_reg_score, l1_score, l2_score, tree_score, tree_depth_score, cat_score, rf_score]\n",
        "names = ['обычная логрег', 'логрег с L1', 'логрег с L2', 'дерево решений', 'дерево решений с бОльшей глубиной', 'градиентный бустинг', 'случайный лес']\n",
        "df = pd.DataFrame({'Модель': names,\n",
        "                   'score': scores})"
      ],
      "metadata": {
        "id": "WB90H9cQnFmL"
      },
      "execution_count": 35,
      "outputs": []
    },
    {
      "cell_type": "code",
      "source": [
        "df"
      ],
      "metadata": {
        "colab": {
          "base_uri": "https://localhost:8080/",
          "height": 269
        },
        "id": "M2PgfUqbqQ3h",
        "outputId": "2100b2a8-7081-41c8-d999-c561a97f08ba"
      },
      "execution_count": 36,
      "outputs": [
        {
          "output_type": "execute_result",
          "data": {
            "text/plain": [
              "                              Модель     score\n",
              "0                     обычная логрег  0.794776\n",
              "1                        логрег с L1  0.794776\n",
              "2                        логрег с L2  0.798507\n",
              "3                     дерево решений  0.809701\n",
              "4  дерево решений с бОльшей глубиной  0.779851\n",
              "5                градиентный бустинг  0.805970\n",
              "6                      случайный лес  0.805970"
            ],
            "text/html": [
              "\n",
              "  <div id=\"df-2d6ff27f-eb45-4b40-b025-bbfdde7d94af\" class=\"colab-df-container\">\n",
              "    <div>\n",
              "<style scoped>\n",
              "    .dataframe tbody tr th:only-of-type {\n",
              "        vertical-align: middle;\n",
              "    }\n",
              "\n",
              "    .dataframe tbody tr th {\n",
              "        vertical-align: top;\n",
              "    }\n",
              "\n",
              "    .dataframe thead th {\n",
              "        text-align: right;\n",
              "    }\n",
              "</style>\n",
              "<table border=\"1\" class=\"dataframe\">\n",
              "  <thead>\n",
              "    <tr style=\"text-align: right;\">\n",
              "      <th></th>\n",
              "      <th>Модель</th>\n",
              "      <th>score</th>\n",
              "    </tr>\n",
              "  </thead>\n",
              "  <tbody>\n",
              "    <tr>\n",
              "      <th>0</th>\n",
              "      <td>обычная логрег</td>\n",
              "      <td>0.794776</td>\n",
              "    </tr>\n",
              "    <tr>\n",
              "      <th>1</th>\n",
              "      <td>логрег с L1</td>\n",
              "      <td>0.794776</td>\n",
              "    </tr>\n",
              "    <tr>\n",
              "      <th>2</th>\n",
              "      <td>логрег с L2</td>\n",
              "      <td>0.798507</td>\n",
              "    </tr>\n",
              "    <tr>\n",
              "      <th>3</th>\n",
              "      <td>дерево решений</td>\n",
              "      <td>0.809701</td>\n",
              "    </tr>\n",
              "    <tr>\n",
              "      <th>4</th>\n",
              "      <td>дерево решений с бОльшей глубиной</td>\n",
              "      <td>0.779851</td>\n",
              "    </tr>\n",
              "    <tr>\n",
              "      <th>5</th>\n",
              "      <td>градиентный бустинг</td>\n",
              "      <td>0.805970</td>\n",
              "    </tr>\n",
              "    <tr>\n",
              "      <th>6</th>\n",
              "      <td>случайный лес</td>\n",
              "      <td>0.805970</td>\n",
              "    </tr>\n",
              "  </tbody>\n",
              "</table>\n",
              "</div>\n",
              "    <div class=\"colab-df-buttons\">\n",
              "\n",
              "  <div class=\"colab-df-container\">\n",
              "    <button class=\"colab-df-convert\" onclick=\"convertToInteractive('df-2d6ff27f-eb45-4b40-b025-bbfdde7d94af')\"\n",
              "            title=\"Convert this dataframe to an interactive table.\"\n",
              "            style=\"display:none;\">\n",
              "\n",
              "  <svg xmlns=\"http://www.w3.org/2000/svg\" height=\"24px\" viewBox=\"0 -960 960 960\">\n",
              "    <path d=\"M120-120v-720h720v720H120Zm60-500h600v-160H180v160Zm220 220h160v-160H400v160Zm0 220h160v-160H400v160ZM180-400h160v-160H180v160Zm440 0h160v-160H620v160ZM180-180h160v-160H180v160Zm440 0h160v-160H620v160Z\"/>\n",
              "  </svg>\n",
              "    </button>\n",
              "\n",
              "  <style>\n",
              "    .colab-df-container {\n",
              "      display:flex;\n",
              "      gap: 12px;\n",
              "    }\n",
              "\n",
              "    .colab-df-convert {\n",
              "      background-color: #E8F0FE;\n",
              "      border: none;\n",
              "      border-radius: 50%;\n",
              "      cursor: pointer;\n",
              "      display: none;\n",
              "      fill: #1967D2;\n",
              "      height: 32px;\n",
              "      padding: 0 0 0 0;\n",
              "      width: 32px;\n",
              "    }\n",
              "\n",
              "    .colab-df-convert:hover {\n",
              "      background-color: #E2EBFA;\n",
              "      box-shadow: 0px 1px 2px rgba(60, 64, 67, 0.3), 0px 1px 3px 1px rgba(60, 64, 67, 0.15);\n",
              "      fill: #174EA6;\n",
              "    }\n",
              "\n",
              "    .colab-df-buttons div {\n",
              "      margin-bottom: 4px;\n",
              "    }\n",
              "\n",
              "    [theme=dark] .colab-df-convert {\n",
              "      background-color: #3B4455;\n",
              "      fill: #D2E3FC;\n",
              "    }\n",
              "\n",
              "    [theme=dark] .colab-df-convert:hover {\n",
              "      background-color: #434B5C;\n",
              "      box-shadow: 0px 1px 3px 1px rgba(0, 0, 0, 0.15);\n",
              "      filter: drop-shadow(0px 1px 2px rgba(0, 0, 0, 0.3));\n",
              "      fill: #FFFFFF;\n",
              "    }\n",
              "  </style>\n",
              "\n",
              "    <script>\n",
              "      const buttonEl =\n",
              "        document.querySelector('#df-2d6ff27f-eb45-4b40-b025-bbfdde7d94af button.colab-df-convert');\n",
              "      buttonEl.style.display =\n",
              "        google.colab.kernel.accessAllowed ? 'block' : 'none';\n",
              "\n",
              "      async function convertToInteractive(key) {\n",
              "        const element = document.querySelector('#df-2d6ff27f-eb45-4b40-b025-bbfdde7d94af');\n",
              "        const dataTable =\n",
              "          await google.colab.kernel.invokeFunction('convertToInteractive',\n",
              "                                                    [key], {});\n",
              "        if (!dataTable) return;\n",
              "\n",
              "        const docLinkHtml = 'Like what you see? Visit the ' +\n",
              "          '<a target=\"_blank\" href=https://colab.research.google.com/notebooks/data_table.ipynb>data table notebook</a>'\n",
              "          + ' to learn more about interactive tables.';\n",
              "        element.innerHTML = '';\n",
              "        dataTable['output_type'] = 'display_data';\n",
              "        await google.colab.output.renderOutput(dataTable, element);\n",
              "        const docLink = document.createElement('div');\n",
              "        docLink.innerHTML = docLinkHtml;\n",
              "        element.appendChild(docLink);\n",
              "      }\n",
              "    </script>\n",
              "  </div>\n",
              "\n",
              "\n",
              "<div id=\"df-9e30df70-6826-41ed-b5da-6d4ac5868ba7\">\n",
              "  <button class=\"colab-df-quickchart\" onclick=\"quickchart('df-9e30df70-6826-41ed-b5da-6d4ac5868ba7')\"\n",
              "            title=\"Suggest charts\"\n",
              "            style=\"display:none;\">\n",
              "\n",
              "<svg xmlns=\"http://www.w3.org/2000/svg\" height=\"24px\"viewBox=\"0 0 24 24\"\n",
              "     width=\"24px\">\n",
              "    <g>\n",
              "        <path d=\"M19 3H5c-1.1 0-2 .9-2 2v14c0 1.1.9 2 2 2h14c1.1 0 2-.9 2-2V5c0-1.1-.9-2-2-2zM9 17H7v-7h2v7zm4 0h-2V7h2v10zm4 0h-2v-4h2v4z\"/>\n",
              "    </g>\n",
              "</svg>\n",
              "  </button>\n",
              "\n",
              "<style>\n",
              "  .colab-df-quickchart {\n",
              "      --bg-color: #E8F0FE;\n",
              "      --fill-color: #1967D2;\n",
              "      --hover-bg-color: #E2EBFA;\n",
              "      --hover-fill-color: #174EA6;\n",
              "      --disabled-fill-color: #AAA;\n",
              "      --disabled-bg-color: #DDD;\n",
              "  }\n",
              "\n",
              "  [theme=dark] .colab-df-quickchart {\n",
              "      --bg-color: #3B4455;\n",
              "      --fill-color: #D2E3FC;\n",
              "      --hover-bg-color: #434B5C;\n",
              "      --hover-fill-color: #FFFFFF;\n",
              "      --disabled-bg-color: #3B4455;\n",
              "      --disabled-fill-color: #666;\n",
              "  }\n",
              "\n",
              "  .colab-df-quickchart {\n",
              "    background-color: var(--bg-color);\n",
              "    border: none;\n",
              "    border-radius: 50%;\n",
              "    cursor: pointer;\n",
              "    display: none;\n",
              "    fill: var(--fill-color);\n",
              "    height: 32px;\n",
              "    padding: 0;\n",
              "    width: 32px;\n",
              "  }\n",
              "\n",
              "  .colab-df-quickchart:hover {\n",
              "    background-color: var(--hover-bg-color);\n",
              "    box-shadow: 0 1px 2px rgba(60, 64, 67, 0.3), 0 1px 3px 1px rgba(60, 64, 67, 0.15);\n",
              "    fill: var(--button-hover-fill-color);\n",
              "  }\n",
              "\n",
              "  .colab-df-quickchart-complete:disabled,\n",
              "  .colab-df-quickchart-complete:disabled:hover {\n",
              "    background-color: var(--disabled-bg-color);\n",
              "    fill: var(--disabled-fill-color);\n",
              "    box-shadow: none;\n",
              "  }\n",
              "\n",
              "  .colab-df-spinner {\n",
              "    border: 2px solid var(--fill-color);\n",
              "    border-color: transparent;\n",
              "    border-bottom-color: var(--fill-color);\n",
              "    animation:\n",
              "      spin 1s steps(1) infinite;\n",
              "  }\n",
              "\n",
              "  @keyframes spin {\n",
              "    0% {\n",
              "      border-color: transparent;\n",
              "      border-bottom-color: var(--fill-color);\n",
              "      border-left-color: var(--fill-color);\n",
              "    }\n",
              "    20% {\n",
              "      border-color: transparent;\n",
              "      border-left-color: var(--fill-color);\n",
              "      border-top-color: var(--fill-color);\n",
              "    }\n",
              "    30% {\n",
              "      border-color: transparent;\n",
              "      border-left-color: var(--fill-color);\n",
              "      border-top-color: var(--fill-color);\n",
              "      border-right-color: var(--fill-color);\n",
              "    }\n",
              "    40% {\n",
              "      border-color: transparent;\n",
              "      border-right-color: var(--fill-color);\n",
              "      border-top-color: var(--fill-color);\n",
              "    }\n",
              "    60% {\n",
              "      border-color: transparent;\n",
              "      border-right-color: var(--fill-color);\n",
              "    }\n",
              "    80% {\n",
              "      border-color: transparent;\n",
              "      border-right-color: var(--fill-color);\n",
              "      border-bottom-color: var(--fill-color);\n",
              "    }\n",
              "    90% {\n",
              "      border-color: transparent;\n",
              "      border-bottom-color: var(--fill-color);\n",
              "    }\n",
              "  }\n",
              "</style>\n",
              "\n",
              "  <script>\n",
              "    async function quickchart(key) {\n",
              "      const quickchartButtonEl =\n",
              "        document.querySelector('#' + key + ' button');\n",
              "      quickchartButtonEl.disabled = true;  // To prevent multiple clicks.\n",
              "      quickchartButtonEl.classList.add('colab-df-spinner');\n",
              "      try {\n",
              "        const charts = await google.colab.kernel.invokeFunction(\n",
              "            'suggestCharts', [key], {});\n",
              "      } catch (error) {\n",
              "        console.error('Error during call to suggestCharts:', error);\n",
              "      }\n",
              "      quickchartButtonEl.classList.remove('colab-df-spinner');\n",
              "      quickchartButtonEl.classList.add('colab-df-quickchart-complete');\n",
              "    }\n",
              "    (() => {\n",
              "      let quickchartButtonEl =\n",
              "        document.querySelector('#df-9e30df70-6826-41ed-b5da-6d4ac5868ba7 button');\n",
              "      quickchartButtonEl.style.display =\n",
              "        google.colab.kernel.accessAllowed ? 'block' : 'none';\n",
              "    })();\n",
              "  </script>\n",
              "</div>\n",
              "    </div>\n",
              "  </div>\n"
            ],
            "application/vnd.google.colaboratory.intrinsic+json": {
              "type": "dataframe",
              "variable_name": "df",
              "summary": "{\n  \"name\": \"df\",\n  \"rows\": 7,\n  \"fields\": [\n    {\n      \"column\": \"\\u041c\\u043e\\u0434\\u0435\\u043b\\u044c\",\n      \"properties\": {\n        \"dtype\": \"string\",\n        \"num_unique_values\": 7,\n        \"samples\": [\n          \"\\u043e\\u0431\\u044b\\u0447\\u043d\\u0430\\u044f \\u043b\\u043e\\u0433\\u0440\\u0435\\u0433\",\n          \"\\u043b\\u043e\\u0433\\u0440\\u0435\\u0433 \\u0441 L1\",\n          \"\\u0433\\u0440\\u0430\\u0434\\u0438\\u0435\\u043d\\u0442\\u043d\\u044b\\u0439 \\u0431\\u0443\\u0441\\u0442\\u0438\\u043d\\u0433\"\n        ],\n        \"semantic_type\": \"\",\n        \"description\": \"\"\n      }\n    },\n    {\n      \"column\": \"score\",\n      \"properties\": {\n        \"dtype\": \"number\",\n        \"std\": 0.010104525378900444,\n        \"min\": 0.7798507462686567,\n        \"max\": 0.8097014925373134,\n        \"num_unique_values\": 5,\n        \"samples\": [\n          0.7985074626865671,\n          0.8059701492537313,\n          0.8097014925373134\n        ],\n        \"semantic_type\": \"\",\n        \"description\": \"\"\n      }\n    }\n  ]\n}"
            }
          },
          "metadata": {},
          "execution_count": 36
        }
      ]
    },
    {
      "cell_type": "markdown",
      "source": [
        "Из сравнительной таблицы видно, что деревья крайне хорошо работают с табличными данными, их score гораздо выше логистической регрисси без и даже с регуляризацией. Однако хорошо, когда много деревьев, так в ансамблях они компенсируют друг друга, а одно дерево либо плохо обобщает данные, либо, при большой глубине, быстро переобучается."
      ],
      "metadata": {
        "id": "oZxRn-OxiWgZ"
      }
    },
    {
      "cell_type": "markdown",
      "source": [
        "# 4. Результаты"
      ],
      "metadata": {
        "id": "PUe5vtyhD47l"
      }
    },
    {
      "cell_type": "markdown",
      "source": [
        "### Обработка данных теста для сабмита"
      ],
      "metadata": {
        "id": "ERaQ7WDHlSSq"
      }
    },
    {
      "cell_type": "code",
      "source": [
        "test = pd.read_csv('/content/test.csv')"
      ],
      "metadata": {
        "id": "M7JbVtspxAFL"
      },
      "execution_count": 37,
      "outputs": []
    },
    {
      "cell_type": "code",
      "source": [
        "PassengerId = test['PassengerId']"
      ],
      "metadata": {
        "id": "-f3wXhBLCWDE"
      },
      "execution_count": 38,
      "outputs": []
    },
    {
      "cell_type": "code",
      "source": [
        "test.head()"
      ],
      "metadata": {
        "colab": {
          "base_uri": "https://localhost:8080/",
          "height": 206
        },
        "id": "abEpmLnRxJYT",
        "outputId": "613d9472-6278-4813-d5ff-d08d45964e72"
      },
      "execution_count": 39,
      "outputs": [
        {
          "output_type": "execute_result",
          "data": {
            "text/plain": [
              "   PassengerId  Pclass                                          Name     Sex  \\\n",
              "0          892       3                              Kelly, Mr. James    male   \n",
              "1          893       3              Wilkes, Mrs. James (Ellen Needs)  female   \n",
              "2          894       2                     Myles, Mr. Thomas Francis    male   \n",
              "3          895       3                              Wirz, Mr. Albert    male   \n",
              "4          896       3  Hirvonen, Mrs. Alexander (Helga E Lindqvist)  female   \n",
              "\n",
              "    Age  SibSp  Parch   Ticket     Fare Cabin Embarked  \n",
              "0  34.5      0      0   330911   7.8292   NaN        Q  \n",
              "1  47.0      1      0   363272   7.0000   NaN        S  \n",
              "2  62.0      0      0   240276   9.6875   NaN        Q  \n",
              "3  27.0      0      0   315154   8.6625   NaN        S  \n",
              "4  22.0      1      1  3101298  12.2875   NaN        S  "
            ],
            "text/html": [
              "\n",
              "  <div id=\"df-b09a1f2e-53d5-41c8-aff4-4b519d11b7f3\" class=\"colab-df-container\">\n",
              "    <div>\n",
              "<style scoped>\n",
              "    .dataframe tbody tr th:only-of-type {\n",
              "        vertical-align: middle;\n",
              "    }\n",
              "\n",
              "    .dataframe tbody tr th {\n",
              "        vertical-align: top;\n",
              "    }\n",
              "\n",
              "    .dataframe thead th {\n",
              "        text-align: right;\n",
              "    }\n",
              "</style>\n",
              "<table border=\"1\" class=\"dataframe\">\n",
              "  <thead>\n",
              "    <tr style=\"text-align: right;\">\n",
              "      <th></th>\n",
              "      <th>PassengerId</th>\n",
              "      <th>Pclass</th>\n",
              "      <th>Name</th>\n",
              "      <th>Sex</th>\n",
              "      <th>Age</th>\n",
              "      <th>SibSp</th>\n",
              "      <th>Parch</th>\n",
              "      <th>Ticket</th>\n",
              "      <th>Fare</th>\n",
              "      <th>Cabin</th>\n",
              "      <th>Embarked</th>\n",
              "    </tr>\n",
              "  </thead>\n",
              "  <tbody>\n",
              "    <tr>\n",
              "      <th>0</th>\n",
              "      <td>892</td>\n",
              "      <td>3</td>\n",
              "      <td>Kelly, Mr. James</td>\n",
              "      <td>male</td>\n",
              "      <td>34.5</td>\n",
              "      <td>0</td>\n",
              "      <td>0</td>\n",
              "      <td>330911</td>\n",
              "      <td>7.8292</td>\n",
              "      <td>NaN</td>\n",
              "      <td>Q</td>\n",
              "    </tr>\n",
              "    <tr>\n",
              "      <th>1</th>\n",
              "      <td>893</td>\n",
              "      <td>3</td>\n",
              "      <td>Wilkes, Mrs. James (Ellen Needs)</td>\n",
              "      <td>female</td>\n",
              "      <td>47.0</td>\n",
              "      <td>1</td>\n",
              "      <td>0</td>\n",
              "      <td>363272</td>\n",
              "      <td>7.0000</td>\n",
              "      <td>NaN</td>\n",
              "      <td>S</td>\n",
              "    </tr>\n",
              "    <tr>\n",
              "      <th>2</th>\n",
              "      <td>894</td>\n",
              "      <td>2</td>\n",
              "      <td>Myles, Mr. Thomas Francis</td>\n",
              "      <td>male</td>\n",
              "      <td>62.0</td>\n",
              "      <td>0</td>\n",
              "      <td>0</td>\n",
              "      <td>240276</td>\n",
              "      <td>9.6875</td>\n",
              "      <td>NaN</td>\n",
              "      <td>Q</td>\n",
              "    </tr>\n",
              "    <tr>\n",
              "      <th>3</th>\n",
              "      <td>895</td>\n",
              "      <td>3</td>\n",
              "      <td>Wirz, Mr. Albert</td>\n",
              "      <td>male</td>\n",
              "      <td>27.0</td>\n",
              "      <td>0</td>\n",
              "      <td>0</td>\n",
              "      <td>315154</td>\n",
              "      <td>8.6625</td>\n",
              "      <td>NaN</td>\n",
              "      <td>S</td>\n",
              "    </tr>\n",
              "    <tr>\n",
              "      <th>4</th>\n",
              "      <td>896</td>\n",
              "      <td>3</td>\n",
              "      <td>Hirvonen, Mrs. Alexander (Helga E Lindqvist)</td>\n",
              "      <td>female</td>\n",
              "      <td>22.0</td>\n",
              "      <td>1</td>\n",
              "      <td>1</td>\n",
              "      <td>3101298</td>\n",
              "      <td>12.2875</td>\n",
              "      <td>NaN</td>\n",
              "      <td>S</td>\n",
              "    </tr>\n",
              "  </tbody>\n",
              "</table>\n",
              "</div>\n",
              "    <div class=\"colab-df-buttons\">\n",
              "\n",
              "  <div class=\"colab-df-container\">\n",
              "    <button class=\"colab-df-convert\" onclick=\"convertToInteractive('df-b09a1f2e-53d5-41c8-aff4-4b519d11b7f3')\"\n",
              "            title=\"Convert this dataframe to an interactive table.\"\n",
              "            style=\"display:none;\">\n",
              "\n",
              "  <svg xmlns=\"http://www.w3.org/2000/svg\" height=\"24px\" viewBox=\"0 -960 960 960\">\n",
              "    <path d=\"M120-120v-720h720v720H120Zm60-500h600v-160H180v160Zm220 220h160v-160H400v160Zm0 220h160v-160H400v160ZM180-400h160v-160H180v160Zm440 0h160v-160H620v160ZM180-180h160v-160H180v160Zm440 0h160v-160H620v160Z\"/>\n",
              "  </svg>\n",
              "    </button>\n",
              "\n",
              "  <style>\n",
              "    .colab-df-container {\n",
              "      display:flex;\n",
              "      gap: 12px;\n",
              "    }\n",
              "\n",
              "    .colab-df-convert {\n",
              "      background-color: #E8F0FE;\n",
              "      border: none;\n",
              "      border-radius: 50%;\n",
              "      cursor: pointer;\n",
              "      display: none;\n",
              "      fill: #1967D2;\n",
              "      height: 32px;\n",
              "      padding: 0 0 0 0;\n",
              "      width: 32px;\n",
              "    }\n",
              "\n",
              "    .colab-df-convert:hover {\n",
              "      background-color: #E2EBFA;\n",
              "      box-shadow: 0px 1px 2px rgba(60, 64, 67, 0.3), 0px 1px 3px 1px rgba(60, 64, 67, 0.15);\n",
              "      fill: #174EA6;\n",
              "    }\n",
              "\n",
              "    .colab-df-buttons div {\n",
              "      margin-bottom: 4px;\n",
              "    }\n",
              "\n",
              "    [theme=dark] .colab-df-convert {\n",
              "      background-color: #3B4455;\n",
              "      fill: #D2E3FC;\n",
              "    }\n",
              "\n",
              "    [theme=dark] .colab-df-convert:hover {\n",
              "      background-color: #434B5C;\n",
              "      box-shadow: 0px 1px 3px 1px rgba(0, 0, 0, 0.15);\n",
              "      filter: drop-shadow(0px 1px 2px rgba(0, 0, 0, 0.3));\n",
              "      fill: #FFFFFF;\n",
              "    }\n",
              "  </style>\n",
              "\n",
              "    <script>\n",
              "      const buttonEl =\n",
              "        document.querySelector('#df-b09a1f2e-53d5-41c8-aff4-4b519d11b7f3 button.colab-df-convert');\n",
              "      buttonEl.style.display =\n",
              "        google.colab.kernel.accessAllowed ? 'block' : 'none';\n",
              "\n",
              "      async function convertToInteractive(key) {\n",
              "        const element = document.querySelector('#df-b09a1f2e-53d5-41c8-aff4-4b519d11b7f3');\n",
              "        const dataTable =\n",
              "          await google.colab.kernel.invokeFunction('convertToInteractive',\n",
              "                                                    [key], {});\n",
              "        if (!dataTable) return;\n",
              "\n",
              "        const docLinkHtml = 'Like what you see? Visit the ' +\n",
              "          '<a target=\"_blank\" href=https://colab.research.google.com/notebooks/data_table.ipynb>data table notebook</a>'\n",
              "          + ' to learn more about interactive tables.';\n",
              "        element.innerHTML = '';\n",
              "        dataTable['output_type'] = 'display_data';\n",
              "        await google.colab.output.renderOutput(dataTable, element);\n",
              "        const docLink = document.createElement('div');\n",
              "        docLink.innerHTML = docLinkHtml;\n",
              "        element.appendChild(docLink);\n",
              "      }\n",
              "    </script>\n",
              "  </div>\n",
              "\n",
              "\n",
              "<div id=\"df-0e306fec-64c0-4a01-92bf-e3790e15f0fc\">\n",
              "  <button class=\"colab-df-quickchart\" onclick=\"quickchart('df-0e306fec-64c0-4a01-92bf-e3790e15f0fc')\"\n",
              "            title=\"Suggest charts\"\n",
              "            style=\"display:none;\">\n",
              "\n",
              "<svg xmlns=\"http://www.w3.org/2000/svg\" height=\"24px\"viewBox=\"0 0 24 24\"\n",
              "     width=\"24px\">\n",
              "    <g>\n",
              "        <path d=\"M19 3H5c-1.1 0-2 .9-2 2v14c0 1.1.9 2 2 2h14c1.1 0 2-.9 2-2V5c0-1.1-.9-2-2-2zM9 17H7v-7h2v7zm4 0h-2V7h2v10zm4 0h-2v-4h2v4z\"/>\n",
              "    </g>\n",
              "</svg>\n",
              "  </button>\n",
              "\n",
              "<style>\n",
              "  .colab-df-quickchart {\n",
              "      --bg-color: #E8F0FE;\n",
              "      --fill-color: #1967D2;\n",
              "      --hover-bg-color: #E2EBFA;\n",
              "      --hover-fill-color: #174EA6;\n",
              "      --disabled-fill-color: #AAA;\n",
              "      --disabled-bg-color: #DDD;\n",
              "  }\n",
              "\n",
              "  [theme=dark] .colab-df-quickchart {\n",
              "      --bg-color: #3B4455;\n",
              "      --fill-color: #D2E3FC;\n",
              "      --hover-bg-color: #434B5C;\n",
              "      --hover-fill-color: #FFFFFF;\n",
              "      --disabled-bg-color: #3B4455;\n",
              "      --disabled-fill-color: #666;\n",
              "  }\n",
              "\n",
              "  .colab-df-quickchart {\n",
              "    background-color: var(--bg-color);\n",
              "    border: none;\n",
              "    border-radius: 50%;\n",
              "    cursor: pointer;\n",
              "    display: none;\n",
              "    fill: var(--fill-color);\n",
              "    height: 32px;\n",
              "    padding: 0;\n",
              "    width: 32px;\n",
              "  }\n",
              "\n",
              "  .colab-df-quickchart:hover {\n",
              "    background-color: var(--hover-bg-color);\n",
              "    box-shadow: 0 1px 2px rgba(60, 64, 67, 0.3), 0 1px 3px 1px rgba(60, 64, 67, 0.15);\n",
              "    fill: var(--button-hover-fill-color);\n",
              "  }\n",
              "\n",
              "  .colab-df-quickchart-complete:disabled,\n",
              "  .colab-df-quickchart-complete:disabled:hover {\n",
              "    background-color: var(--disabled-bg-color);\n",
              "    fill: var(--disabled-fill-color);\n",
              "    box-shadow: none;\n",
              "  }\n",
              "\n",
              "  .colab-df-spinner {\n",
              "    border: 2px solid var(--fill-color);\n",
              "    border-color: transparent;\n",
              "    border-bottom-color: var(--fill-color);\n",
              "    animation:\n",
              "      spin 1s steps(1) infinite;\n",
              "  }\n",
              "\n",
              "  @keyframes spin {\n",
              "    0% {\n",
              "      border-color: transparent;\n",
              "      border-bottom-color: var(--fill-color);\n",
              "      border-left-color: var(--fill-color);\n",
              "    }\n",
              "    20% {\n",
              "      border-color: transparent;\n",
              "      border-left-color: var(--fill-color);\n",
              "      border-top-color: var(--fill-color);\n",
              "    }\n",
              "    30% {\n",
              "      border-color: transparent;\n",
              "      border-left-color: var(--fill-color);\n",
              "      border-top-color: var(--fill-color);\n",
              "      border-right-color: var(--fill-color);\n",
              "    }\n",
              "    40% {\n",
              "      border-color: transparent;\n",
              "      border-right-color: var(--fill-color);\n",
              "      border-top-color: var(--fill-color);\n",
              "    }\n",
              "    60% {\n",
              "      border-color: transparent;\n",
              "      border-right-color: var(--fill-color);\n",
              "    }\n",
              "    80% {\n",
              "      border-color: transparent;\n",
              "      border-right-color: var(--fill-color);\n",
              "      border-bottom-color: var(--fill-color);\n",
              "    }\n",
              "    90% {\n",
              "      border-color: transparent;\n",
              "      border-bottom-color: var(--fill-color);\n",
              "    }\n",
              "  }\n",
              "</style>\n",
              "\n",
              "  <script>\n",
              "    async function quickchart(key) {\n",
              "      const quickchartButtonEl =\n",
              "        document.querySelector('#' + key + ' button');\n",
              "      quickchartButtonEl.disabled = true;  // To prevent multiple clicks.\n",
              "      quickchartButtonEl.classList.add('colab-df-spinner');\n",
              "      try {\n",
              "        const charts = await google.colab.kernel.invokeFunction(\n",
              "            'suggestCharts', [key], {});\n",
              "      } catch (error) {\n",
              "        console.error('Error during call to suggestCharts:', error);\n",
              "      }\n",
              "      quickchartButtonEl.classList.remove('colab-df-spinner');\n",
              "      quickchartButtonEl.classList.add('colab-df-quickchart-complete');\n",
              "    }\n",
              "    (() => {\n",
              "      let quickchartButtonEl =\n",
              "        document.querySelector('#df-0e306fec-64c0-4a01-92bf-e3790e15f0fc button');\n",
              "      quickchartButtonEl.style.display =\n",
              "        google.colab.kernel.accessAllowed ? 'block' : 'none';\n",
              "    })();\n",
              "  </script>\n",
              "</div>\n",
              "    </div>\n",
              "  </div>\n"
            ],
            "application/vnd.google.colaboratory.intrinsic+json": {
              "type": "dataframe",
              "variable_name": "test",
              "summary": "{\n  \"name\": \"test\",\n  \"rows\": 418,\n  \"fields\": [\n    {\n      \"column\": \"PassengerId\",\n      \"properties\": {\n        \"dtype\": \"number\",\n        \"std\": 120,\n        \"min\": 892,\n        \"max\": 1309,\n        \"num_unique_values\": 418,\n        \"samples\": [\n          1213,\n          1216,\n          1280\n        ],\n        \"semantic_type\": \"\",\n        \"description\": \"\"\n      }\n    },\n    {\n      \"column\": \"Pclass\",\n      \"properties\": {\n        \"dtype\": \"number\",\n        \"std\": 0,\n        \"min\": 1,\n        \"max\": 3,\n        \"num_unique_values\": 3,\n        \"samples\": [\n          3,\n          2,\n          1\n        ],\n        \"semantic_type\": \"\",\n        \"description\": \"\"\n      }\n    },\n    {\n      \"column\": \"Name\",\n      \"properties\": {\n        \"dtype\": \"string\",\n        \"num_unique_values\": 418,\n        \"samples\": [\n          \"Krekorian, Mr. Neshan\",\n          \"Kreuchen, Miss. Emilie\",\n          \"Canavan, Mr. Patrick\"\n        ],\n        \"semantic_type\": \"\",\n        \"description\": \"\"\n      }\n    },\n    {\n      \"column\": \"Sex\",\n      \"properties\": {\n        \"dtype\": \"category\",\n        \"num_unique_values\": 2,\n        \"samples\": [\n          \"female\",\n          \"male\"\n        ],\n        \"semantic_type\": \"\",\n        \"description\": \"\"\n      }\n    },\n    {\n      \"column\": \"Age\",\n      \"properties\": {\n        \"dtype\": \"number\",\n        \"std\": 14.181209235624422,\n        \"min\": 0.17,\n        \"max\": 76.0,\n        \"num_unique_values\": 79,\n        \"samples\": [\n          10.0,\n          34.5\n        ],\n        \"semantic_type\": \"\",\n        \"description\": \"\"\n      }\n    },\n    {\n      \"column\": \"SibSp\",\n      \"properties\": {\n        \"dtype\": \"number\",\n        \"std\": 0,\n        \"min\": 0,\n        \"max\": 8,\n        \"num_unique_values\": 7,\n        \"samples\": [\n          0,\n          1\n        ],\n        \"semantic_type\": \"\",\n        \"description\": \"\"\n      }\n    },\n    {\n      \"column\": \"Parch\",\n      \"properties\": {\n        \"dtype\": \"number\",\n        \"std\": 0,\n        \"min\": 0,\n        \"max\": 9,\n        \"num_unique_values\": 8,\n        \"samples\": [\n          1,\n          6\n        ],\n        \"semantic_type\": \"\",\n        \"description\": \"\"\n      }\n    },\n    {\n      \"column\": \"Ticket\",\n      \"properties\": {\n        \"dtype\": \"string\",\n        \"num_unique_values\": 363,\n        \"samples\": [\n          \"2673\",\n          \"W./C. 6607\"\n        ],\n        \"semantic_type\": \"\",\n        \"description\": \"\"\n      }\n    },\n    {\n      \"column\": \"Fare\",\n      \"properties\": {\n        \"dtype\": \"number\",\n        \"std\": 55.907576179973844,\n        \"min\": 0.0,\n        \"max\": 512.3292,\n        \"num_unique_values\": 169,\n        \"samples\": [\n          41.5792,\n          57.75\n        ],\n        \"semantic_type\": \"\",\n        \"description\": \"\"\n      }\n    },\n    {\n      \"column\": \"Cabin\",\n      \"properties\": {\n        \"dtype\": \"category\",\n        \"num_unique_values\": 76,\n        \"samples\": [\n          \"A21\",\n          \"E45\"\n        ],\n        \"semantic_type\": \"\",\n        \"description\": \"\"\n      }\n    },\n    {\n      \"column\": \"Embarked\",\n      \"properties\": {\n        \"dtype\": \"category\",\n        \"num_unique_values\": 3,\n        \"samples\": [\n          \"Q\",\n          \"S\"\n        ],\n        \"semantic_type\": \"\",\n        \"description\": \"\"\n      }\n    }\n  ]\n}"
            }
          },
          "metadata": {},
          "execution_count": 39
        }
      ]
    },
    {
      "cell_type": "code",
      "source": [
        "test.info()"
      ],
      "metadata": {
        "colab": {
          "base_uri": "https://localhost:8080/"
        },
        "id": "VcXjsT0FAdvH",
        "outputId": "693face3-7881-42b2-f3ac-671a3039fa1a"
      },
      "execution_count": 40,
      "outputs": [
        {
          "output_type": "stream",
          "name": "stdout",
          "text": [
            "<class 'pandas.core.frame.DataFrame'>\n",
            "RangeIndex: 418 entries, 0 to 417\n",
            "Data columns (total 11 columns):\n",
            " #   Column       Non-Null Count  Dtype  \n",
            "---  ------       --------------  -----  \n",
            " 0   PassengerId  418 non-null    int64  \n",
            " 1   Pclass       418 non-null    int64  \n",
            " 2   Name         418 non-null    object \n",
            " 3   Sex          418 non-null    object \n",
            " 4   Age          332 non-null    float64\n",
            " 5   SibSp        418 non-null    int64  \n",
            " 6   Parch        418 non-null    int64  \n",
            " 7   Ticket       418 non-null    object \n",
            " 8   Fare         417 non-null    float64\n",
            " 9   Cabin        91 non-null     object \n",
            " 10  Embarked     418 non-null    object \n",
            "dtypes: float64(2), int64(4), object(5)\n",
            "memory usage: 36.0+ KB\n"
          ]
        }
      ]
    },
    {
      "cell_type": "markdown",
      "source": [
        "Так как мы не трогали тест, то там есть категориальные фичи, а значит нам нужно снова использовать one-hot-encoding и снова заменить пропуски, убрать лишние колонки, одним словом, проделать всё то, что мы делали в самом начале."
      ],
      "metadata": {
        "id": "B1cJxEh0xOiK"
      }
    },
    {
      "cell_type": "code",
      "source": [
        "test.drop(['PassengerId', 'Cabin', 'Ticket', 'Name'], axis=1, inplace=True)\n",
        "test['Age'] = test['Age'].fillna(test['Age'].mean())\n",
        "norm_mode = test[~(test['Embarked'].isna())]['Embarked'].mode()\n",
        "test['Embarked'] = test['Embarked'].fillna(norm_mode)\n",
        "test['Fare'] = test['Fare'].fillna(test['Fare'].mean())"
      ],
      "metadata": {
        "id": "r3lDpeVMx-mX"
      },
      "execution_count": 41,
      "outputs": []
    },
    {
      "cell_type": "code",
      "source": [
        "cat_col_test = []\n",
        "num_col_test = []\n",
        "for column in test.columns:\n",
        "  if test[column].dtype == float or test[column].dtype == int:\n",
        "    num_col_test.append(column)\n",
        "  else:\n",
        "    cat_col_test.append(column)\n",
        "test = pd.get_dummies(test, columns = cat_col_test)\n",
        "scaler = MinMaxScaler()\n",
        "test[num_col_test] = scaler.fit_transform(test[num_col_test])"
      ],
      "metadata": {
        "id": "CMfEv6OWy373"
      },
      "execution_count": 42,
      "outputs": []
    },
    {
      "cell_type": "markdown",
      "source": [
        "### Предсказания разных моделей"
      ],
      "metadata": {
        "id": "9xszruLmla0Q"
      }
    },
    {
      "cell_type": "code",
      "source": [
        "models = {\"LogisticNoReg\" : simple_reg,\n",
        "          \"LogisticL1Reg\" : l1_reg,\n",
        "          \"LogisticL2Reg\" : l2_reg,\n",
        "          \"DecisionTree\" : final_tree,\n",
        "          \"DeepDecisionTree\" : final_depth_tree,\n",
        "          \"CatBoost\" : cat,\n",
        "          \"RandomForest\" : best_rf}"
      ],
      "metadata": {
        "id": "C2SqCa0yUyhf"
      },
      "execution_count": 43,
      "outputs": []
    },
    {
      "cell_type": "code",
      "source": [
        "for name, model in models.items():\n",
        "  preds = model.predict(test).astype(int)\n",
        "  df = pd.DataFrame({'PassengerId' : PassengerId, 'Survived' : preds})\n",
        "  df.to_csv(name + '.csv', index=False)"
      ],
      "metadata": {
        "id": "VmyDy9x2V2Vo"
      },
      "execution_count": 45,
      "outputs": []
    },
    {
      "cell_type": "markdown",
      "source": [
        "Мы засабмитили предсказания всех моделей, получилось так, что градиентный бустинг catboost показал наилучший результат среди всех моделей."
      ],
      "metadata": {
        "id": "xtCgnmE3k6ed"
      }
    },
    {
      "cell_type": "markdown",
      "source": [
        "## 5. Вывод по проекту \"Titanic: Learning Data Science Using Disaster\"\n",
        "\n",
        "Работа над проектом \"Titanic: Learning Data Science Using Disaster\" на платформе Kaggle оказалась для нашей команды интересным и поучительным опытом. В процессе выполнения задания мы столкнулись с рядом трудностей, которые помогли нам углубить наши знания в области анализа данных и машинного обучения.\n",
        "\n",
        "### Итоги:\n",
        "\n",
        "- Мы достигли точности предсказаний в 0.78 на тестовых данных Kaggle, что является хорошим результатом для нашего первого опыта в этом соревновании.\n",
        "- Совместная работа над проектом помогла каждому члену команды улучшить свои навыки в области предобработки данных, анализа данных и построения моделей машинного обучения.\n",
        "- Мы получили ценный опыт работы с реальными данными и улучшили понимание важности различных этапов в процессе машинного обучения, таких как обработка данных, выбор признаков и настройка моделей.\n",
        "\n",
        "В целом, выполнение этого задания позволило нам значительно продвинуться в изучении анализа данных и машинного обучения, а также дало возможность применить теоретические знания на практике.\n"
      ],
      "metadata": {
        "id": "r65pz57kludV"
      }
    }
  ],
  "metadata": {
    "colab": {
      "provenance": [],
      "collapsed_sections": [
        "z6t4MKtRsBU0",
        "o6PVvJF786nC",
        "4i7-vRBK86nC",
        "9OUhJhnc1oVa",
        "cyaxmUVv1ud1",
        "AzmVpGAT4bPb",
        "UZv77eiw813K",
        "UT9G2Mt88nkx",
        "Qda14Q9eBTVQ",
        "pVOX71s8Stpt",
        "hMEbsDl4Cb_X",
        "hpeo3Ne5CmBf",
        "x1B0QyocCtfn",
        "WdOEJ09nCzxO",
        "9Ed7HOAiC27T",
        "yvzQptXkDJmW",
        "ERaQ7WDHlSSq"
      ]
    },
    "kaggle": {
      "accelerator": "none",
      "dataSources": [
        {
          "databundleVersionId": 26502,
          "sourceId": 3136,
          "sourceType": "competition"
        }
      ],
      "dockerImageVersionId": 30197,
      "isGpuEnabled": false,
      "isInternetEnabled": true,
      "language": "python",
      "sourceType": "notebook"
    },
    "kernelspec": {
      "display_name": "Python 3",
      "language": "python",
      "name": "python3"
    },
    "language_info": {
      "codemirror_mode": {
        "name": "ipython",
        "version": 3
      },
      "file_extension": ".py",
      "mimetype": "text/x-python",
      "name": "python",
      "nbconvert_exporter": "python",
      "pygments_lexer": "ipython3",
      "version": "3.11.7"
    }
  },
  "nbformat": 4,
  "nbformat_minor": 0
}